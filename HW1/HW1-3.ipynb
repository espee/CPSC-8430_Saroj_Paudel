{
 "cells": [
  {
   "cell_type": "code",
   "execution_count": 1,
   "id": "722b7fd2-7f64-42fb-83b2-fdfde4f244b9",
   "metadata": {},
   "outputs": [
    {
     "name": "stdout",
     "output_type": "stream",
     "text": [
      "Using cuda device\n"
     ]
    }
   ],
   "source": [
    "import torch\n",
    "from torch import nn, optim\n",
    "import torch.nn.functional as F\n",
    "from torch.utils.data import DataLoader, TensorDataset\n",
    "from torchinfo import summary\n",
    "from torchvision import datasets\n",
    "from torchvision.transforms import Compose, ToTensor, Normalize\n",
    "import matplotlib.pyplot as plt\n",
    "from sklearn.decomposition import PCA \n",
    "import numpy as np\n",
    "import copy\n",
    "from autograd_lib import autograd_lib\n",
    "from collections import defaultdict\n",
    "import math\n",
    "\n",
    "# define preferred pytorch device (gpu, if available)\n",
    "device = \"cuda\" if torch.cuda.is_available() else \"cpu\"\n",
    "print(\"Using \" + device + \" device\")"
   ]
  },
  {
   "cell_type": "code",
   "execution_count": 3,
   "id": "7bd35adb-e386-41fb-9a88-a89c703b4ba4",
   "metadata": {},
   "outputs": [],
   "source": [
    "# get MNIST training and test sets\n",
    "MNIST_trainset = datasets.MNIST(root='./MNIST_data/', train = True, download=True, transform=ToTensor())\n",
    "MNIST_testset = datasets.MNIST(root='./MNIST_data/', train = False, download=True, transform=ToTensor())\n",
    "\n",
    "# set labels to random values\n",
    "MNIST_trainset.targets = torch.randint(0, 10, MNIST_trainset.targets.shape)\n",
    "MNIST_testset.targets = torch.randint(0, 10, MNIST_testset.targets.shape)\n",
    "\n",
    "# define train and test data loaders\n",
    "train_loader = DataLoader(MNIST_trainset, batch_size=600, shuffle=True, num_workers=2)\n",
    "test_loader = DataLoader(MNIST_testset, batch_size=100, shuffle=False, num_workers=2)"
   ]
  },
  {
   "cell_type": "code",
   "execution_count": 4,
   "id": "74248a57-845f-4862-a4bd-4eacc8c3cd25",
   "metadata": {},
   "outputs": [],
   "source": [
    "class DNN(nn.Module):\n",
    "    def __init__(self,):\n",
    "        super(DNN, self).__init__()\n",
    "        self.fc1 = nn.Linear(784, 256)\n",
    "        self.fc2 = nn.Linear(256, 10)\n",
    "\n",
    "    def forward(self, x):\n",
    "        # flatten as one dimension\n",
    "        x = x.reshape(x.shape[0], -1)\n",
    "        x = F.relu(self.fc1(x))\n",
    "        x = self.fc2(x)\n",
    "        return x"
   ]
  },
  {
   "cell_type": "code",
   "execution_count": 4,
   "id": "6736ea2a-3920-41de-9d00-1b8634d202ce",
   "metadata": {},
   "outputs": [],
   "source": [
    "def evaluate_test_loss(dataloader, model): \n",
    "    loss_fn = nn.CrossEntropyLoss()\n",
    "    model.eval()\n",
    "\n",
    "    epoch_test_loss = 0.0\n",
    "    for batch, (images, labels) in enumerate(dataloader): \n",
    "        images = images.to(device)\n",
    "        labels = labels.to(device)\n",
    "        prediction = model(images)\n",
    "        loss = loss_fn(prediction, labels)\n",
    "        epoch_test_loss += loss.item() / len(dataloader)\n",
    "    return epoch_test_loss"
   ]
  },
  {
   "cell_type": "code",
   "execution_count": 5,
   "id": "10250bef-abd8-4301-aa5e-db46f8e4333a",
   "metadata": {},
   "outputs": [],
   "source": [
    "def train_dnn(dataloader, model):\n",
    "    model.train()\n",
    "\n",
    "    epoch_training_loss = 0.0\n",
    "    for batch, (images, labels) in enumerate(dataloader): \n",
    "        images = images.to(device)\n",
    "        labels = labels.to(device)\n",
    "\n",
    "        optimizer.zero_grad()\n",
    "        prediction = model(images)\n",
    "        loss = loss_fn(prediction, labels)\n",
    "        loss.backward()\n",
    "        optimizer.step()\n",
    "        epoch_training_loss += loss.item() / len(dataloader)\n",
    "        \n",
    "    return epoch_training_loss"
   ]
  },
  {
   "cell_type": "code",
   "execution_count": 6,
   "id": "eabf5cf2-e525-4701-886e-9071bcac10df",
   "metadata": {},
   "outputs": [],
   "source": [
    "def train_and_evaluate(train_loader, test_loader, model):\n",
    "    max_epochs = 50\n",
    "    training_loss = []\n",
    "    test_loss = []\n",
    "    \n",
    "    for epoch in range(max_epochs):\n",
    "        epoch_training_loss = train_dnn(train_loader, model)\n",
    "        training_loss.append(epoch_training_loss)\n",
    "        epoch_test_loss = evaluate_test_loss(test_loader, model)\n",
    "        test_loss.append(epoch_test_loss)\n",
    "\n",
    "        if (epoch % 25 == 0) or (epoch == (epochs-1)):\n",
    "            print(\"Epoch \" + str(epoch) + \", training loss: \" + str(epoch_training_loss) \n",
    "                + \", test loss: \" + str(epoch_test_loss))\n",
    "            \n",
    "    return training_loss, test_loss"
   ]
  },
  {
   "cell_type": "code",
   "execution_count": 7,
   "id": "42da9490-ecba-4ac4-9149-1b692ddc142f",
   "metadata": {},
   "outputs": [
    {
     "name": "stdout",
     "output_type": "stream",
     "text": [
      "DNN(\n",
      "  (fc1): Linear(in_features=784, out_features=256, bias=True)\n",
      "  (fc2): Linear(in_features=256, out_features=10, bias=True)\n",
      ")\n",
      "Training model on random MNIST...\n",
      "Epoch 0, training loss: 2.3048468708992007, test loss: 2.303129689693452\n",
      "Epoch 20, training loss: 2.0835634016990663, test loss: 2.4326731395721435\n",
      "Epoch 40, training loss: 1.8115707445144658, test loss: 2.694615700244903\n",
      "Epoch 49, training loss: 1.7221118366718295, test loss: 2.806899161338806\n"
     ]
    }
   ],
   "source": [
    "dnn1 = DNN().to(device)\n",
    "print(dnn1)\n",
    "# n_param=[]\n",
    "# for i in dnn1.parameters():\n",
    "#     n_param.append(torch.numel(i))\n",
    "# print(f'Total no of parameters:{np.sum(n_param)}')\n",
    "\n",
    "loss_fn = nn.CrossEntropyLoss()\n",
    "optimizer = torch.optim.Adam(dnn1.parameters())#,lr = 0.0001,weight_decay=1e-4)\n",
    "\n",
    "print(\"Training model on random MNIST...\")\n",
    "training_loss, test_loss = train_and_evaluate(train_loader, test_loader, dnn1)"
   ]
  },
  {
   "cell_type": "code",
   "execution_count": 12,
   "id": "50b3bee0-80bc-4bf3-ba57-d0035952be8e",
   "metadata": {},
   "outputs": [
    {
     "data": {
      "image/png": "[encoded data removed]",
      "text/plain": [
       "<Figure size 640x480 with 1 Axes>"
      ]
     },
     "metadata": {},
     "output_type": "display_data"
    }
   ],
   "source": [
    "plt.plot(training_loss, color='red')\n",
    "plt.plot(test_loss, color='blue')\n",
    "plt.legend([\"train loss\", \"test loss\"])\n",
    "plt.xlabel(\"epoch\")\n",
    "plt.ylabel(\"loss\")\n",
    "plt.title('Random Labels Train and Test Loss')\n",
    "plt.savefig('randomLabel.png')\n",
    "plt.show()\n"
   ]
  },
  {
   "cell_type": "markdown",
   "id": "584252c7-1a27-45b0-837c-92eea4be99a4",
   "metadata": {},
   "source": [
    "## Generalization"
   ]
  },
  {
   "cell_type": "code",
   "execution_count": 5,
   "id": "62b621e0-f41b-4c39-97a3-1906ccc19dda",
   "metadata": {},
   "outputs": [],
   "source": [
    "# get MNIST training and test sets\n",
    "MNIST_trainset = datasets.MNIST(root='./MNIST_data/', train = True, download=True, transform=ToTensor())\n",
    "MNIST_testset = datasets.MNIST(root='./MNIST_data/', train = False, download=True, transform=ToTensor())\n",
    "\n",
    "# set labels to random values\n",
    "MNIST_trainset.targets = torch.randint(0, 10, MNIST_trainset.targets.shape)\n",
    "MNIST_testset.targets = torch.randint(0, 10, MNIST_testset.targets.shape)\n",
    "\n",
    "# define train and test data loaders\n",
    "train_loader = DataLoader(MNIST_trainset, batch_size=600, shuffle=True, num_workers=2)\n",
    "test_loader = DataLoader(MNIST_testset, batch_size=100, shuffle=False, num_workers=2)"
   ]
  },
  {
   "cell_type": "code",
   "execution_count": 55,
   "id": "8705578b-cbe1-45cf-ab87-b2933b5abb92",
   "metadata": {},
   "outputs": [],
   "source": [
    "class DNN(nn.Module):\n",
    "    def __init__(self, h_layer):\n",
    "        super(DNN, self).__init__()\n",
    "        self.fc1 = nn.Linear(784, h_layer)\n",
    "        self.fc2 = nn.Linear(h_layer, 10)\n",
    "\n",
    "    def forward(self, x):\n",
    "        # flatten as one dimension\n",
    "        x = x.reshape(x.shape[0], -1)\n",
    "        x = F.relu(self.fc1(x))\n",
    "        x = self.fc2(x)\n",
    "        return x"
   ]
  },
  {
   "cell_type": "code",
   "execution_count": 56,
   "id": "4a28e55b-f6e3-46a9-9490-2861b68850bc",
   "metadata": {},
   "outputs": [
    {
     "name": "stdout",
     "output_type": "stream",
     "text": [
      "Model 0 , number of parameters: 1600\n",
      "Model 1 , number of parameters: 3190\n",
      "Model 2 , number of parameters: 4780\n",
      "Model 3 , number of parameters: 6370\n",
      "Model 4 , number of parameters: 7960\n",
      "Model 5 , number of parameters: 9550\n",
      "Model 6 , number of parameters: 11140\n",
      "Model 7 , number of parameters: 12730\n",
      "Model 8 , number of parameters: 14320\n",
      "Model 9 , number of parameters: 15910\n"
     ]
    }
   ],
   "source": [
    "def params_count(model):\n",
    "    return sum(params.numel() for params in model.parameters() if params.requires_grad)\n",
    "\n",
    "num_models = 10\n",
    "models = []\n",
    "model_param_counts = []\n",
    "\n",
    "for i in range(num_models): \n",
    "    models.append(DNN(h_layer=((i+1)*2)).to(device))\n",
    "    model_param_counts.append(params_count(models[i]))\n",
    "    print(\"Model\", i, \", number of parameters:\", model_param_counts[i])"
   ]
  },
  {
   "cell_type": "code",
   "execution_count": 57,
   "id": "6b555886-883f-4829-aaec-9812f1cf15b9",
   "metadata": {},
   "outputs": [],
   "source": [
    "def evaluate_test_loss(dataloader, model): \n",
    "    loss_fn = nn.CrossEntropyLoss()\n",
    "    model.eval()\n",
    "\n",
    "    epoch_test_loss = 0.0\n",
    "    for batch, (images, labels) in enumerate(dataloader): \n",
    "        images = images.to(device)\n",
    "        labels = labels.to(device)\n",
    "        prediction = model(images)\n",
    "        loss = loss_fn(prediction, labels)\n",
    "        epoch_test_loss += loss.item() / len(dataloader)\n",
    "    return epoch_test_loss\n"
   ]
  },
  {
   "cell_type": "code",
   "execution_count": 58,
   "id": "e25e9f8b-9abb-43bf-a337-4c3f4ad798b0",
   "metadata": {},
   "outputs": [],
   "source": [
    "def evaluate_accuracy(dataloader, model): \n",
    "    model.eval()\n",
    "    correct = 0\n",
    "    \n",
    "    # compute amount of correct predictions (class with max predicted probability == ground-truth label)\n",
    "    for images, labels in dataloader: \n",
    "        images = images.to(device)\n",
    "        labels = labels.to(device)\n",
    "        prediction = model(images)\n",
    "        y = prediction.data.max(1, keepdim=True)[1]\n",
    "        correct += y.eq(labels.data.view_as(y)).cpu().sum()\n",
    "\n",
    "    # return % accuracy \n",
    "    return 100 * correct.item() / len(dataloader.dataset)\n",
    "    "
   ]
  },
  {
   "cell_type": "code",
   "execution_count": 59,
   "id": "f5891213-df0a-4292-be55-f691fd10033e",
   "metadata": {},
   "outputs": [],
   "source": [
    "def train_dnn(dataloader, model):\n",
    "    model.train()\n",
    "    loss_fn = nn.CrossEntropyLoss()\n",
    "    optimizer = optim.Adam(model.parameters())\n",
    "    \n",
    "    epoch_training_loss = 0.0\n",
    "    for batch, (images, labels) in enumerate(dataloader): \n",
    "        images = images.to(device)\n",
    "        labels = labels.to(device)\n",
    "\n",
    "        optimizer.zero_grad()\n",
    "        prediction = model(images)\n",
    "        loss = loss_fn(prediction, labels)\n",
    "        loss.backward()\n",
    "        optimizer.step()\n",
    "        epoch_training_loss += loss.item() / len(dataloader)\n",
    "        \n",
    "    return epoch_training_loss"
   ]
  },
  {
   "cell_type": "code",
   "execution_count": 61,
   "id": "4c807bd8-0afd-446c-b4b2-32810d440653",
   "metadata": {},
   "outputs": [],
   "source": [
    "def train_and_evaluate(train_loader, test_loader, model):\n",
    "    max_epochs = 10\n",
    "    training_loss = []\n",
    "    test_loss = []\n",
    "    loss_fn = nn.CrossEntropyLoss()\n",
    "    optimizer = optim.Adam(model.parameters())\n",
    "    \n",
    "    for epoch in range(max_epochs):\n",
    "        if epoch < (max_epochs - 1):\n",
    "            training_loss = train_dnn(train_loader, model)\n",
    "            # print info\n",
    "            if (epoch % 5 == 0):\n",
    "                print(\"Epoch \" + str(epoch) + \", training loss: \" + str(training_loss))\n",
    "                \n",
    "        else: # record loss and accuracy only on last epoch\n",
    "\n",
    "            training_loss = train_dnn(train_loader, model)\n",
    "            test_loss = evaluate_test_loss(test_loader, model)\n",
    "            train_accuracy = evaluate_accuracy(train_loader, model)\n",
    "            test_accuracy = evaluate_accuracy(test_loader, model)\n",
    "            \n",
    "            # print info\n",
    "            print(\"Epoch \" + str(epoch) + \", training loss: \" + str(training_loss) \n",
    "                + \", test loss: \" + str(test_loss)\n",
    "                + \", train accuracy: \" + str(train_accuracy) + \"%\"\n",
    "                + \", test accuracy: \" + str(test_accuracy) + \"%\")\n",
    "            \n",
    "    return training_loss, test_loss, train_accuracy, test_accuracy"
   ]
  },
  {
   "cell_type": "code",
   "execution_count": 25,
   "id": "ea49f39d-bff1-449f-9244-2725efb13e8d",
   "metadata": {},
   "outputs": [],
   "source": [
    "#print(models)"
   ]
  },
  {
   "cell_type": "code",
   "execution_count": 51,
   "id": "cd19ddd9-31a1-4a10-92f2-752eb851b93a",
   "metadata": {
    "collapsed": true,
    "jupyter": {
     "outputs_hidden": true
    },
    "tags": []
   },
   "outputs": [
    {
     "name": "stdout",
     "output_type": "stream",
     "text": [
      "\n",
      "Training model 0 on MNIST...\n",
      "Epoch 0, training loss: 2.354349327087402\n",
      "Epoch 5, training loss: 2.3025477242469776\n",
      "Epoch 9, training loss: 2.3011111855506887, test loss: 2.3046358060836787, train accuracy: 10.766666666666667%, test accuracy: 9.83%\n",
      "\n",
      "Training model 1 on MNIST...\n",
      "Epoch 0, training loss: 2.3184539866447467\n",
      "Epoch 5, training loss: 2.3025872468948365\n",
      "Epoch 9, training loss: 2.302301723957061, test loss: 2.302625942230224, train accuracy: 10.236666666666666%, test accuracy: 10.2%\n",
      "\n",
      "Training model 2 on MNIST...\n",
      "Epoch 0, training loss: 2.310668010711669\n",
      "Epoch 5, training loss: 2.3012483954429626\n",
      "Epoch 9, training loss: 2.2993387269973757, test loss: 2.304722056388854, train accuracy: 11.275%, test accuracy: 10.29%\n",
      "\n",
      "Training model 3 on MNIST...\n",
      "Epoch 0, training loss: 2.3099944210052485\n",
      "Epoch 5, training loss: 2.300510761737825\n",
      "Epoch 9, training loss: 2.298408641815185, test loss: 2.3061030054092404, train accuracy: 11.478333333333333%, test accuracy: 10.25%\n",
      "\n",
      "Training model 4 on MNIST...\n",
      "Epoch 0, training loss: 2.305323219299316\n",
      "Epoch 5, training loss: 2.299896457195283\n",
      "Epoch 9, training loss: 2.2970873236656186, test loss: 2.3080428647994986, train accuracy: 11.796666666666667%, test accuracy: 9.72%\n",
      "\n",
      "Training model 5 on MNIST...\n",
      "Epoch 0, training loss: 2.3102132177352908\n",
      "Epoch 5, training loss: 2.299469735622407\n",
      "Epoch 9, training loss: 2.296237626075745, test loss: 2.3053712797164922, train accuracy: 11.921666666666667%, test accuracy: 10.88%\n",
      "\n",
      "Training model 6 on MNIST...\n",
      "Epoch 0, training loss: 2.3045355367660525\n",
      "Epoch 5, training loss: 2.2993456625938427\n",
      "Epoch 9, training loss: 2.2956942081451404, test loss: 2.3060651111602786, train accuracy: 12.028333333333334%, test accuracy: 10.26%\n",
      "\n",
      "Training model 7 on MNIST...\n",
      "Epoch 0, training loss: 2.3049849033355705\n",
      "Epoch 5, training loss: 2.2990721225738517\n",
      "Epoch 9, training loss: 2.2955827021598822, test loss: 2.305911078453065, train accuracy: 12.466666666666667%, test accuracy: 10.28%\n",
      "\n",
      "Training model 8 on MNIST...\n",
      "Epoch 0, training loss: 2.3073377442359924\n",
      "Epoch 5, training loss: 2.3000038123130793\n",
      "Epoch 9, training loss: 2.2965898609161375, test loss: 2.305683364868165, train accuracy: 11.936666666666667%, test accuracy: 9.85%\n",
      "\n",
      "Training model 9 on MNIST...\n",
      "Epoch 0, training loss: 2.304703409671784\n",
      "Epoch 5, training loss: 2.297757408618927\n",
      "Epoch 9, training loss: 2.2928231835365285, test loss: 2.3085968852043157, train accuracy: 12.983333333333333%, test accuracy: 10.14%\n",
      "Done.\n"
     ]
    }
   ],
   "source": [
    "plot_data_train_losses = []\n",
    "plot_data_test_losses = []\n",
    "plot_data_train_accs = []\n",
    "plot_data_test_accs = []\n",
    "\n",
    "for i in range(num_models): \n",
    "    print(\"\\nTraining model\", i, \"on MNIST...\")\n",
    "    training_loss, test_loss, train_accuracy, test_accuracy = train_and_evaluate(train_loader, test_loader, models[i])\n",
    "    plot_data_train_losses.append(training_loss) \n",
    "    plot_data_test_losses.append(test_loss) \n",
    "    plot_data_train_accs.append(train_accuracy)\n",
    "    plot_data_test_accs.append(test_accuracy) \n",
    "print(\"Done.\")"
   ]
  },
  {
   "cell_type": "code",
   "execution_count": 71,
   "id": "6a0891bf-7369-47d2-b524-a2ea5b7b289f",
   "metadata": {},
   "outputs": [
    {
     "data": {
      "image/png": "[encoded data removed]",
      "text/plain": [
       "<Figure size 640x480 with 1 Axes>"
      ]
     },
     "metadata": {},
     "output_type": "display_data"
    },
    {
     "data": {
      "image/png": "[encoded data removed]",
      "text/plain": [
       "<Figure size 640x480 with 1 Axes>"
      ]
     },
     "metadata": {},
     "output_type": "display_data"
    }
   ],
   "source": [
    "\n",
    "plt.scatter(model_param_counts, plot_data_train_losses, color='red', marker='o')\n",
    "plt.scatter(model_param_counts, plot_data_test_losses, color='blue', marker='o')\n",
    "plt.legend([\"train loss\", \"test loss\"])\n",
    "plt.xlabel(\"parameters\")\n",
    "plt.ylabel(\"loss\")\n",
    "plt.savefig('LossComparisonVsParameter.png')\n",
    "plt.show()\n",
    "plt.show()\n",
    "plt.scatter(model_param_counts, plot_data_train_accs, color='red', marker='o')\n",
    "plt.scatter(model_param_counts, plot_data_test_accs, color='blue', marker='o')\n",
    "plt.legend([\"train accuracy\", \"test accuracy\"])\n",
    "plt.xlabel(\"parameters\")\n",
    "plt.ylabel(\"accuracy\")\n",
    "plt.savefig('AccuracyComparisonVsParameter.png')\n",
    "plt.show()\n"
   ]
  },
  {
   "cell_type": "code",
   "execution_count": 53,
   "id": "6aa2189a-494a-4d1e-be5c-97a15a4f6abd",
   "metadata": {},
   "outputs": [
    {
     "name": "stdout",
     "output_type": "stream",
     "text": [
      "[1600, 3190, 4780, 6370, 7960, 9550, 11140, 12730, 14320, 15910]\n",
      "[2.302579813003539, 2.3041364884376527]\n"
     ]
    }
   ],
   "source": [
    "print(model_param_counts)\n",
    "print(plot_data_test_losses)"
   ]
  },
  {
   "cell_type": "markdown",
   "id": "74a40d88-f92c-4a0e-a779-c27ed32469c1",
   "metadata": {},
   "source": [
    "### Flatness vs Generalization"
   ]
  },
  {
   "cell_type": "code",
   "execution_count": 72,
   "id": "44863ecd-678f-477e-b622-a331972d28f7",
   "metadata": {},
   "outputs": [],
   "source": [
    "class DNN(nn.Module):\n",
    "    def __init__(self):\n",
    "        super(DNN, self).__init__()\n",
    "        self.fc1 = nn.Linear(784, 10)\n",
    "        self.fc2 = nn.Linear(10, 10)\n",
    "\n",
    "    def forward(self, x):\n",
    "        # flatten as one dimension\n",
    "        x = x.reshape(x.shape[0], -1)\n",
    "        x = F.relu(self.fc1(x))\n",
    "        x = self.fc2(x)\n",
    "        return x"
   ]
  },
  {
   "cell_type": "code",
   "execution_count": 73,
   "id": "c0b38e20-6517-4ad5-9c67-f96ddf3e2a89",
   "metadata": {},
   "outputs": [],
   "source": [
    "dnn_model_A = DNN().to(device)\n",
    "dnn_model_B = DNN().to(device)"
   ]
  },
  {
   "cell_type": "code",
   "execution_count": 74,
   "id": "f82ff7ea-f75b-4727-b67c-623ee561f28b",
   "metadata": {},
   "outputs": [],
   "source": [
    "def evaluate_accuracy(dataloader, model): \n",
    "    model.eval()\n",
    "    correct = 0\n",
    "    \n",
    "    # compute amount of correct predictions (class with max predicted probability == ground-truth label)\n",
    "    for input_data, labels in dataloader: \n",
    "        input_data = input_data.to(device)\n",
    "        labels = labels.to(device)\n",
    "        y_pred = model(input_data)\n",
    "        y_pred_one_hot = y_pred.data.max(1, keepdim=True)[1]\n",
    "        correct += y_pred_one_hot.eq(labels.data.view_as(y_pred_one_hot)).cpu().sum()\n",
    "\n",
    "    # return % accuracy \n",
    "    return 100 * correct.item() / len(dataloader.dataset)"
   ]
  },
  {
   "cell_type": "code",
   "execution_count": 75,
   "id": "f7b7985c-4c17-4389-a9ef-3e8d1ddad60b",
   "metadata": {},
   "outputs": [],
   "source": [
    "def evaluate_loss(dataloader, model): \n",
    "    loss_fn = nn.CrossEntropyLoss()\n",
    "    \n",
    "    model.eval()\n",
    "    \n",
    "    epoch_test_loss = 0.0\n",
    "    for batch, (images, labels) in enumerate(dataloader): \n",
    "        images = images.to(device)\n",
    "        labels = labels.to(device)\n",
    "\n",
    "        prediction = model(images)\n",
    "        loss = loss_fn(prediction, labels)\n",
    "\n",
    "        epoch_test_loss += loss.item() / len(dataloader)\n",
    "    return epoch_test_loss"
   ]
  },
  {
   "cell_type": "code",
   "execution_count": 79,
   "id": "8c7df62d-c2cf-4972-ab2e-18612de71a97",
   "metadata": {},
   "outputs": [],
   "source": [
    "def train_dnn(dataloader, model, epochs=10, lr=1e-3):\n",
    "    # define cost function (cross entropy loss for classification) and optimizer\n",
    "    loss_fn = nn.CrossEntropyLoss()\n",
    "    optimizer = optim.Adam(model.parameters(), lr=lr)\n",
    "\n",
    "    # set model to train mode\n",
    "    model.train()\n",
    "\n",
    "    for epoch in range(epochs):\n",
    "        epoch_training_loss = 0.0\n",
    "        for batch, (images, labels) in enumerate(dataloader): \n",
    "            images = images.to(device)\n",
    "            labels = labels.to(device)\n",
    "            optimizer.zero_grad()\n",
    "\n",
    "            prediction = model(images)\n",
    "            loss = loss_fn(prediction, labels)\n",
    "            loss.backward()\n",
    "            optimizer.step()\n",
    "            epoch_training_loss += loss.item() / len(dataloader)\n",
    "        \n",
    "        # print info\n",
    "        if (epoch % 5 == 0):\n",
    "            print(\"Epoch \" + str(epoch) + \", training loss: \" + str(epoch_training_loss))\n",
    "\n"
   ]
  },
  {
   "cell_type": "code",
   "execution_count": 85,
   "id": "df1bafaf-6d9f-4ca5-b434-4e21527fa301",
   "metadata": {},
   "outputs": [],
   "source": [
    "def interpolate_models(model_A, model_B, alpha):\n",
    "    interpolated_model = DNN().to(device)\n",
    "    # set weights\n",
    "    for p in interpolated_model.state_dict():\n",
    "        p_a = model_A.state_dict()[p].cpu().numpy()\n",
    "        p_b = model_B.state_dict()[p].cpu().numpy()\n",
    "        interpolated_model.state_dict()[p][:] = torch.Tensor((1-alpha)*p_a + alpha*p_b)\n",
    "    \n",
    "    return interpolated_model.to(device)"
   ]
  },
  {
   "cell_type": "code",
   "execution_count": 91,
   "id": "2a740e57-2fe7-4c54-b031-9cf60ee8fc57",
   "metadata": {
    "tags": []
   },
   "outputs": [
    {
     "name": "stdout",
     "output_type": "stream",
     "text": [
      "Training model A on MNIST...\n",
      "Epoch 0, training loss: 2.292431633472442\n",
      "Epoch 5, training loss: 2.28952821969986\n",
      "\n",
      "Training model B on MNIST...\n",
      "Epoch 0, training loss: 2.3026536393165586\n",
      "Epoch 5, training loss: 2.3021461343765255\n"
     ]
    }
   ],
   "source": [
    "alpha_values = np.linspace(0, 1, 25)\n",
    "plot_data_train_losses = []\n",
    "plot_data_test_losses = []\n",
    "plot_data_train_accs = []\n",
    "plot_data_test_accs = []\n",
    "\n",
    "# train models\n",
    "print(\"Training model A on MNIST...\")\n",
    "train_dnn(train_loader, dnn_model_A, lr=1e-3)\n",
    "\n",
    "print(\"\\nTraining model B on MNIST...\")\n",
    "train_dnn(train_loader, dnn_model_B, lr=1e-2)\n",
    "\n"
   ]
  },
  {
   "cell_type": "code",
   "execution_count": 86,
   "id": "79417285-2ce4-41b7-8879-c9789a0d1bb0",
   "metadata": {},
   "outputs": [
    {
     "name": "stdout",
     "output_type": "stream",
     "text": [
      "\n",
      "Evaluating interpolated models...\n",
      "alpha: -1.0\n",
      "alpha: -0.9166666666666666\n",
      "alpha: -0.8333333333333334\n",
      "alpha: -0.75\n",
      "alpha: -0.6666666666666667\n",
      "alpha: -0.5833333333333334\n",
      "alpha: -0.5\n",
      "alpha: -0.41666666666666674\n",
      "alpha: -0.33333333333333337\n",
      "alpha: -0.25\n",
      "alpha: -0.16666666666666674\n",
      "alpha: -0.08333333333333337\n",
      "alpha: 0.0\n",
      "alpha: 0.08333333333333326\n",
      "alpha: 0.16666666666666652\n",
      "alpha: 0.25\n",
      "alpha: 0.33333333333333326\n",
      "alpha: 0.4166666666666665\n",
      "alpha: 0.5\n",
      "alpha: 0.5833333333333333\n",
      "alpha: 0.6666666666666665\n",
      "alpha: 0.75\n",
      "alpha: 0.8333333333333333\n",
      "alpha: 0.9166666666666665\n",
      "alpha: 1.0\n",
      "Done.\n"
     ]
    }
   ],
   "source": [
    "# evaluate interpolated models\n",
    "print(\"\\nEvaluating interpolated models...\")\n",
    "for alpha in alpha_values: \n",
    "    print(\"alpha:\", alpha)\n",
    "    interpolated_model = interpolate_models(dnn_model_A, dnn_model_B, alpha)\n",
    "    training_loss = evaluate_loss(train_loader, interpolated_model)\n",
    "    test_loss = evaluate_loss(test_loader, interpolated_model)\n",
    "    train_accuracy = evaluate_accuracy(train_loader, interpolated_model)\n",
    "    test_accuracy = evaluate_accuracy(test_loader, interpolated_model)\n",
    "    \n",
    "    plot_data_train_losses.append(training_loss) \n",
    "    plot_data_test_losses.append(test_loss) \n",
    "    plot_data_train_accs.append(train_accuracy)\n",
    "    plot_data_test_accs.append(test_accuracy) \n",
    "print(\"Done.\")"
   ]
  },
  {
   "cell_type": "code",
   "execution_count": 93,
   "id": "0847416a-26a1-4b18-a114-efb52c5484e2",
   "metadata": {},
   "outputs": [
    {
     "ename": "ValueError",
     "evalue": "x and y must have same first dimension, but have shapes (25,) and (0,)",
     "output_type": "error",
     "traceback": [
      "\u001b[0;31m---------------------------------------------------------------------------\u001b[0m",
      "\u001b[0;31mValueError\u001b[0m                                Traceback (most recent call last)",
      "\u001b[0;32m/local_scratch/pbs.1956786.pbs02/ipykernel_584134/406115426.py\u001b[0m in \u001b[0;36m<module>\u001b[0;34m\u001b[0m\n\u001b[1;32m     24\u001b[0m \u001b[0;34m\u001b[0m\u001b[0m\n\u001b[1;32m     25\u001b[0m \u001b[0;31m# plot loss and accuracy, for both train and test\u001b[0m\u001b[0;34m\u001b[0m\u001b[0;34m\u001b[0m\u001b[0m\n\u001b[0;32m---> 26\u001b[0;31m \u001b[0mplt\u001b[0m\u001b[0;34m.\u001b[0m\u001b[0mplot\u001b[0m\u001b[0;34m(\u001b[0m\u001b[0malpha_values\u001b[0m\u001b[0;34m,\u001b[0m \u001b[0mplot_data_train_losses\u001b[0m\u001b[0;34m,\u001b[0m \u001b[0mcolor\u001b[0m\u001b[0;34m=\u001b[0m\u001b[0;34m'blue'\u001b[0m\u001b[0;34m)\u001b[0m\u001b[0;34m\u001b[0m\u001b[0;34m\u001b[0m\u001b[0m\n\u001b[0m\u001b[1;32m     27\u001b[0m \u001b[0mplt\u001b[0m\u001b[0;34m.\u001b[0m\u001b[0mplot\u001b[0m\u001b[0;34m(\u001b[0m\u001b[0malpha_values\u001b[0m\u001b[0;34m,\u001b[0m \u001b[0mplot_data_test_losses\u001b[0m\u001b[0;34m,\u001b[0m \u001b[0mcolor\u001b[0m\u001b[0;34m=\u001b[0m\u001b[0;34m'darkblue'\u001b[0m\u001b[0;34m,\u001b[0m \u001b[0mlinestyle\u001b[0m\u001b[0;34m=\u001b[0m\u001b[0;34m\"--\"\u001b[0m\u001b[0;34m)\u001b[0m\u001b[0;34m\u001b[0m\u001b[0;34m\u001b[0m\u001b[0m\n\u001b[1;32m     28\u001b[0m \u001b[0mplt\u001b[0m\u001b[0;34m.\u001b[0m\u001b[0mplot\u001b[0m\u001b[0;34m(\u001b[0m\u001b[0malpha_values\u001b[0m\u001b[0;34m,\u001b[0m \u001b[0mplot_data_train_accs\u001b[0m\u001b[0;34m,\u001b[0m \u001b[0mcolor\u001b[0m\u001b[0;34m=\u001b[0m\u001b[0;34m'red'\u001b[0m\u001b[0;34m)\u001b[0m\u001b[0;34m\u001b[0m\u001b[0;34m\u001b[0m\u001b[0m\n",
      "\u001b[0;32m/software/spackages/linux-rocky8-x86_64/gcc-9.5.0/anaconda3-2022.10-dtqfczcbv33ugxmsznhll4vjexdcxjfn/lib/python3.9/site-packages/matplotlib/pyplot.py\u001b[0m in \u001b[0;36mplot\u001b[0;34m(scalex, scaley, data, *args, **kwargs)\u001b[0m\n\u001b[1;32m   2767\u001b[0m \u001b[0;34m@\u001b[0m\u001b[0m_copy_docstring_and_deprecators\u001b[0m\u001b[0;34m(\u001b[0m\u001b[0mAxes\u001b[0m\u001b[0;34m.\u001b[0m\u001b[0mplot\u001b[0m\u001b[0;34m)\u001b[0m\u001b[0;34m\u001b[0m\u001b[0;34m\u001b[0m\u001b[0m\n\u001b[1;32m   2768\u001b[0m \u001b[0;32mdef\u001b[0m \u001b[0mplot\u001b[0m\u001b[0;34m(\u001b[0m\u001b[0;34m*\u001b[0m\u001b[0margs\u001b[0m\u001b[0;34m,\u001b[0m \u001b[0mscalex\u001b[0m\u001b[0;34m=\u001b[0m\u001b[0;32mTrue\u001b[0m\u001b[0;34m,\u001b[0m \u001b[0mscaley\u001b[0m\u001b[0;34m=\u001b[0m\u001b[0;32mTrue\u001b[0m\u001b[0;34m,\u001b[0m \u001b[0mdata\u001b[0m\u001b[0;34m=\u001b[0m\u001b[0;32mNone\u001b[0m\u001b[0;34m,\u001b[0m \u001b[0;34m**\u001b[0m\u001b[0mkwargs\u001b[0m\u001b[0;34m)\u001b[0m\u001b[0;34m:\u001b[0m\u001b[0;34m\u001b[0m\u001b[0;34m\u001b[0m\u001b[0m\n\u001b[0;32m-> 2769\u001b[0;31m     return gca().plot(\n\u001b[0m\u001b[1;32m   2770\u001b[0m         \u001b[0;34m*\u001b[0m\u001b[0margs\u001b[0m\u001b[0;34m,\u001b[0m \u001b[0mscalex\u001b[0m\u001b[0;34m=\u001b[0m\u001b[0mscalex\u001b[0m\u001b[0;34m,\u001b[0m \u001b[0mscaley\u001b[0m\u001b[0;34m=\u001b[0m\u001b[0mscaley\u001b[0m\u001b[0;34m,\u001b[0m\u001b[0;34m\u001b[0m\u001b[0;34m\u001b[0m\u001b[0m\n\u001b[1;32m   2771\u001b[0m         **({\"data\": data} if data is not None else {}), **kwargs)\n",
      "\u001b[0;32m/software/spackages/linux-rocky8-x86_64/gcc-9.5.0/anaconda3-2022.10-dtqfczcbv33ugxmsznhll4vjexdcxjfn/lib/python3.9/site-packages/matplotlib/axes/_axes.py\u001b[0m in \u001b[0;36mplot\u001b[0;34m(self, scalex, scaley, data, *args, **kwargs)\u001b[0m\n\u001b[1;32m   1630\u001b[0m         \"\"\"\n\u001b[1;32m   1631\u001b[0m         \u001b[0mkwargs\u001b[0m \u001b[0;34m=\u001b[0m \u001b[0mcbook\u001b[0m\u001b[0;34m.\u001b[0m\u001b[0mnormalize_kwargs\u001b[0m\u001b[0;34m(\u001b[0m\u001b[0mkwargs\u001b[0m\u001b[0;34m,\u001b[0m \u001b[0mmlines\u001b[0m\u001b[0;34m.\u001b[0m\u001b[0mLine2D\u001b[0m\u001b[0;34m)\u001b[0m\u001b[0;34m\u001b[0m\u001b[0;34m\u001b[0m\u001b[0m\n\u001b[0;32m-> 1632\u001b[0;31m         \u001b[0mlines\u001b[0m \u001b[0;34m=\u001b[0m \u001b[0;34m[\u001b[0m\u001b[0;34m*\u001b[0m\u001b[0mself\u001b[0m\u001b[0;34m.\u001b[0m\u001b[0m_get_lines\u001b[0m\u001b[0;34m(\u001b[0m\u001b[0;34m*\u001b[0m\u001b[0margs\u001b[0m\u001b[0;34m,\u001b[0m \u001b[0mdata\u001b[0m\u001b[0;34m=\u001b[0m\u001b[0mdata\u001b[0m\u001b[0;34m,\u001b[0m \u001b[0;34m**\u001b[0m\u001b[0mkwargs\u001b[0m\u001b[0;34m)\u001b[0m\u001b[0;34m]\u001b[0m\u001b[0;34m\u001b[0m\u001b[0;34m\u001b[0m\u001b[0m\n\u001b[0m\u001b[1;32m   1633\u001b[0m         \u001b[0;32mfor\u001b[0m \u001b[0mline\u001b[0m \u001b[0;32min\u001b[0m \u001b[0mlines\u001b[0m\u001b[0;34m:\u001b[0m\u001b[0;34m\u001b[0m\u001b[0;34m\u001b[0m\u001b[0m\n\u001b[1;32m   1634\u001b[0m             \u001b[0mself\u001b[0m\u001b[0;34m.\u001b[0m\u001b[0madd_line\u001b[0m\u001b[0;34m(\u001b[0m\u001b[0mline\u001b[0m\u001b[0;34m)\u001b[0m\u001b[0;34m\u001b[0m\u001b[0;34m\u001b[0m\u001b[0m\n",
      "\u001b[0;32m/software/spackages/linux-rocky8-x86_64/gcc-9.5.0/anaconda3-2022.10-dtqfczcbv33ugxmsznhll4vjexdcxjfn/lib/python3.9/site-packages/matplotlib/axes/_base.py\u001b[0m in \u001b[0;36m__call__\u001b[0;34m(self, data, *args, **kwargs)\u001b[0m\n\u001b[1;32m    310\u001b[0m                 \u001b[0mthis\u001b[0m \u001b[0;34m+=\u001b[0m \u001b[0margs\u001b[0m\u001b[0;34m[\u001b[0m\u001b[0;36m0\u001b[0m\u001b[0;34m]\u001b[0m\u001b[0;34m,\u001b[0m\u001b[0;34m\u001b[0m\u001b[0;34m\u001b[0m\u001b[0m\n\u001b[1;32m    311\u001b[0m                 \u001b[0margs\u001b[0m \u001b[0;34m=\u001b[0m \u001b[0margs\u001b[0m\u001b[0;34m[\u001b[0m\u001b[0;36m1\u001b[0m\u001b[0;34m:\u001b[0m\u001b[0;34m]\u001b[0m\u001b[0;34m\u001b[0m\u001b[0;34m\u001b[0m\u001b[0m\n\u001b[0;32m--> 312\u001b[0;31m             \u001b[0;32myield\u001b[0m \u001b[0;32mfrom\u001b[0m \u001b[0mself\u001b[0m\u001b[0;34m.\u001b[0m\u001b[0m_plot_args\u001b[0m\u001b[0;34m(\u001b[0m\u001b[0mthis\u001b[0m\u001b[0;34m,\u001b[0m \u001b[0mkwargs\u001b[0m\u001b[0;34m)\u001b[0m\u001b[0;34m\u001b[0m\u001b[0;34m\u001b[0m\u001b[0m\n\u001b[0m\u001b[1;32m    313\u001b[0m \u001b[0;34m\u001b[0m\u001b[0m\n\u001b[1;32m    314\u001b[0m     \u001b[0;32mdef\u001b[0m \u001b[0mget_next_color\u001b[0m\u001b[0;34m(\u001b[0m\u001b[0mself\u001b[0m\u001b[0;34m)\u001b[0m\u001b[0;34m:\u001b[0m\u001b[0;34m\u001b[0m\u001b[0;34m\u001b[0m\u001b[0m\n",
      "\u001b[0;32m/software/spackages/linux-rocky8-x86_64/gcc-9.5.0/anaconda3-2022.10-dtqfczcbv33ugxmsznhll4vjexdcxjfn/lib/python3.9/site-packages/matplotlib/axes/_base.py\u001b[0m in \u001b[0;36m_plot_args\u001b[0;34m(self, tup, kwargs, return_kwargs)\u001b[0m\n\u001b[1;32m    496\u001b[0m \u001b[0;34m\u001b[0m\u001b[0m\n\u001b[1;32m    497\u001b[0m         \u001b[0;32mif\u001b[0m \u001b[0mx\u001b[0m\u001b[0;34m.\u001b[0m\u001b[0mshape\u001b[0m\u001b[0;34m[\u001b[0m\u001b[0;36m0\u001b[0m\u001b[0;34m]\u001b[0m \u001b[0;34m!=\u001b[0m \u001b[0my\u001b[0m\u001b[0;34m.\u001b[0m\u001b[0mshape\u001b[0m\u001b[0;34m[\u001b[0m\u001b[0;36m0\u001b[0m\u001b[0;34m]\u001b[0m\u001b[0;34m:\u001b[0m\u001b[0;34m\u001b[0m\u001b[0;34m\u001b[0m\u001b[0m\n\u001b[0;32m--> 498\u001b[0;31m             raise ValueError(f\"x and y must have same first dimension, but \"\n\u001b[0m\u001b[1;32m    499\u001b[0m                              f\"have shapes {x.shape} and {y.shape}\")\n\u001b[1;32m    500\u001b[0m         \u001b[0;32mif\u001b[0m \u001b[0mx\u001b[0m\u001b[0;34m.\u001b[0m\u001b[0mndim\u001b[0m \u001b[0;34m>\u001b[0m \u001b[0;36m2\u001b[0m \u001b[0;32mor\u001b[0m \u001b[0my\u001b[0m\u001b[0;34m.\u001b[0m\u001b[0mndim\u001b[0m \u001b[0;34m>\u001b[0m \u001b[0;36m2\u001b[0m\u001b[0;34m:\u001b[0m\u001b[0;34m\u001b[0m\u001b[0;34m\u001b[0m\u001b[0m\n",
      "\u001b[0;31mValueError\u001b[0m: x and y must have same first dimension, but have shapes (25,) and (0,)"
     ]
    },
    {
     "data": {
      "image/png": "[encoded data removed]",
      "text/plain": [
       "<Figure size 640x480 with 1 Axes>"
      ]
     },
     "metadata": {},
     "output_type": "display_data"
    }
   ],
   "source": [
    "# normalize scales for loss and accuracy\n",
    "max_loss = 0\n",
    "max_acc = 0\n",
    "\n",
    "for l in plot_data_train_losses + plot_data_test_losses:\n",
    "    if l > max_loss: \n",
    "        max_loss = l\n",
    "\n",
    "for a in plot_data_train_accs + plot_data_test_accs:\n",
    "    if a > max_acc: \n",
    "        max_acc = a\n",
    "for i in range(len(plot_data_train_losses)): \n",
    "    plot_data_train_losses[i] /= max_loss\n",
    "\n",
    "for i in range(len(plot_data_test_losses)): \n",
    "    plot_data_test_losses[i] /= max_loss\n",
    "\n",
    "for i in range(len(plot_data_train_accs)): \n",
    "    plot_data_train_accs[i] /= max_acc\n",
    "    \n",
    "for i in range(len(plot_data_test_accs)): \n",
    "    plot_data_test_accs[i] /= max_acc\n",
    "\n",
    "# plot loss and accuracy, for both train and test\n",
    "plt.plot(alpha_values, plot_data_train_losses, color='blue')\n",
    "plt.plot(alpha_values, plot_data_test_losses, color='darkblue', linestyle=\"--\")\n",
    "plt.plot(alpha_values, plot_data_train_accs, color='red')\n",
    "plt.plot(alpha_values, plot_data_test_accs, color='darkred', linestyle=\"--\")\n",
    "plt.legend([\"trainLoss\", \"testLoss\", \"trainAccuracy\", \"testAccuracy\"])\n",
    "plt.xlabel(\"alpha\")\n",
    "plt.ylabel(\"Accuracy/ Loss\")\n",
    "plt.savefig('interpolatedModels.png')\n",
    "plt.show()"
   ]
  },
  {
   "cell_type": "markdown",
   "id": "71049762-306a-4425-98d3-0b28dca92751",
   "metadata": {},
   "source": [
    "### Sensitivity"
   ]
  },
  {
   "cell_type": "code",
   "execution_count": 94,
   "id": "008ffd6a-fd38-4bf6-99aa-5e804465e7a4",
   "metadata": {},
   "outputs": [
    {
     "name": "stdout",
     "output_type": "stream",
     "text": [
      "Using cuda device\n"
     ]
    }
   ],
   "source": [
    "import math \n",
    "\n",
    "import numpy as np\n",
    "from numpy import asarray\n",
    "import torch\n",
    "import torch.nn as nn\n",
    "import torch.optim as optim\n",
    "import torch.utils.data\n",
    "from tqdm import tqdm\n",
    "\n",
    "from sklearn.model_selection import train_test_split\n",
    "from torch.autograd import Variable\n",
    "import torchvision\n",
    "import matplotlib\n",
    "import matplotlib.pyplot as plt\n",
    "import pickle\n",
    "from sklearn.preprocessing import MinMaxScaler\n",
    "from collections import defaultdict\n",
    "from autograd_lib import autograd_lib\n",
    "import torch.nn.functional as F     # Contains all the functions in the torch.nn library\n",
    "\n",
    "\n",
    "# define preferred pytorch device (gpu, if available)\n",
    "device = \"cuda\" if torch.cuda.is_available() else \"cpu\"\n",
    "print(\"Using \" + device + \" device\")"
   ]
  },
  {
   "cell_type": "code",
   "execution_count": 95,
   "id": "841c608a-99ce-40b3-9f88-9a781c08c646",
   "metadata": {},
   "outputs": [],
   "source": [
    "class DNNModel(nn.Module):\n",
    "    def __init__(self):\n",
    "        super(DNNModel, self).__init__()\n",
    "        self.net = nn.Sequential(\n",
    "            nn.Linear(784, 10),\n",
    "            nn.ReLU(),\n",
    "            nn.Linear(10, 10))\n",
    "\n",
    "    def forward(self, x):\n",
    "        x = torch.flatten(x, 1)\n",
    "        return self.net(x)"
   ]
  },
  {
   "cell_type": "code",
   "execution_count": 96,
   "id": "a3422d37-cc11-4561-b84e-8789374bedfc",
   "metadata": {},
   "outputs": [],
   "source": [
    "# get MNIST training and test sets\n",
    "MNIST_trainset = datasets.MNIST(root='./MNIST_data/', train = True, download=True, transform=ToTensor())\n",
    "MNIST_testset = datasets.MNIST(root='./MNIST_data/', train = False, download=True, transform=ToTensor())\n",
    "\n",
    "# define train and test data loaders\n",
    "trainset_loader = DataLoader(MNIST_trainset, batch_size=64, shuffle=True, num_workers=2)\n",
    "testset_loader = DataLoader(MNIST_testset, batch_size=64, shuffle=False, num_workers=2)"
   ]
  },
  {
   "cell_type": "code",
   "execution_count": 97,
   "id": "58421993-a9fe-466a-87b1-5ae6c251395e",
   "metadata": {},
   "outputs": [
    {
     "name": "stdout",
     "output_type": "stream",
     "text": [
      "Training model with learning rate:  0.05\n",
      "epoch: 0\n",
      "epoch: 1\n",
      "epoch: 2\n",
      "epoch: 3\n",
      "epoch: 4\n",
      "epoch: 5\n",
      "epoch: 6\n",
      "epoch: 7\n",
      "epoch: 8\n",
      "epoch: 9\n",
      "Training model with learning rate:  0.01\n",
      "epoch: 0\n",
      "epoch: 1\n",
      "epoch: 2\n",
      "epoch: 3\n",
      "epoch: 4\n",
      "epoch: 5\n",
      "epoch: 6\n",
      "epoch: 7\n",
      "epoch: 8\n",
      "epoch: 9\n",
      "Training model with learning rate:  0.005\n",
      "epoch: 0\n",
      "epoch: 1\n",
      "epoch: 2\n",
      "epoch: 3\n",
      "epoch: 4\n",
      "epoch: 5\n",
      "epoch: 6\n",
      "epoch: 7\n",
      "epoch: 8\n",
      "epoch: 9\n",
      "Training model with learning rate:  0.001\n",
      "epoch: 0\n",
      "epoch: 1\n",
      "epoch: 2\n",
      "epoch: 3\n",
      "epoch: 4\n",
      "epoch: 5\n",
      "epoch: 6\n",
      "epoch: 7\n",
      "epoch: 8\n",
      "epoch: 9\n",
      "Training model with learning rate:  0.0001\n",
      "epoch: 0\n",
      "epoch: 1\n",
      "epoch: 2\n",
      "epoch: 3\n",
      "epoch: 4\n",
      "epoch: 5\n",
      "epoch: 6\n",
      "epoch: 7\n",
      "epoch: 8\n",
      "epoch: 9\n"
     ]
    }
   ],
   "source": [
    "# function to evaluate model accuracy against the provided dataset\n",
    "def evaluate_accuracy(dataloader, model): \n",
    "    model.eval()\n",
    "    correct = 0\n",
    "    \n",
    "    # compute amount of correct predictions (class with max predicted probability == ground-truth label)\n",
    "    for input_data, labels in dataloader: \n",
    "        input_data = input_data.to(device)\n",
    "        labels = labels.to(device)\n",
    "        y_pred = model(input_data)\n",
    "        y_pred_one_hot = y_pred.data.max(1, keepdim=True)[1]\n",
    "        correct += y_pred_one_hot.eq(labels.data.view_as(y_pred_one_hot)).cpu().sum()\n",
    "\n",
    "    # return % accuracy \n",
    "    return 100 * correct.item() / len(dataloader.dataset)\n",
    "    \n",
    "\n",
    "# function to evaluate model loss against dataset (without training the params)\n",
    "def evaluate_loss(dataloader, model): \n",
    "    loss_fn = nn.CrossEntropyLoss()\n",
    "    \n",
    "    model.eval()\n",
    "    \n",
    "    # compute epoch loss\n",
    "    epoch_test_loss = 0.0\n",
    "    for batch, (X_test, y_test) in enumerate(dataloader): \n",
    "        X_test = X_test.to(device)\n",
    "        y_test = y_test.to(device)\n",
    "\n",
    "        # compute model predictions and loss\n",
    "        y_pred = model(X_test)\n",
    "        loss = loss_fn(y_pred, y_test)\n",
    "\n",
    "        # update epoch loss with batch loss (epoch loss := mean batch loss throughout all batches)\n",
    "        epoch_test_loss += loss.item() / len(dataloader)\n",
    "    \n",
    "    # return epoch loss\n",
    "    return epoch_test_loss\n",
    "    \n",
    "    \n",
    "# function to train a model with the provided dataset for one epoch. Returns training loss and sensitivity\n",
    "def train_dnn(dataloader, model, lr=1e-3):\n",
    "    # define cost function (cross entropy loss for classification) and optimizer\n",
    "    loss_fn = nn.CrossEntropyLoss()\n",
    "    optimizer = optim.Adam(model.parameters(), lr=lr)\n",
    "\n",
    "    # set model to train mode\n",
    "    model.train()\n",
    "    \n",
    "    epoch_training_loss = 0.0\n",
    "    epoch_sensitivity = 0.0\n",
    "    \n",
    "    for batch, (X_train, y_train) in enumerate(dataloader): \n",
    "        X_train = X_train.to(device)\n",
    "        y_train = y_train.to(device)\n",
    "\n",
    "        # compute model predictions and loss\n",
    "        y_pred = model(X_train)\n",
    "        loss = loss_fn(y_pred, y_train)\n",
    "        optimizer.zero_grad()\n",
    "  \n",
    "        # update sensitivity with batch grad (epoch sensitivity := mean sensitivity across all batches)\n",
    "        grads_p = torch.autograd.grad(loss, model.parameters(), create_graph=True)[0]\n",
    "        epoch_sensitivity += grads_p.norm(2).detach().cpu().item() / len(dataloader)\n",
    "        \n",
    "        # perform optimization step\n",
    "        loss.backward()\n",
    "        optimizer.step()\n",
    "\n",
    "        # update epoch loss with batch loss (epoch loss := mean batch loss throughout all batches)\n",
    "        epoch_training_loss += loss.item() / len(dataloader)\n",
    "    \n",
    "    return epoch_training_loss, epoch_sensitivity\n",
    "\n",
    "#torch.autograd.set_detect_anomaly(True)\n",
    "epochs=10\n",
    "\n",
    "# store data (one sample per model)\n",
    "training_loss_data=[]\n",
    "test_loss_data=[]\n",
    "training_accuracy_data=[]\n",
    "test_accuracy_data=[]\n",
    "sensitivity_data=[]\n",
    "\n",
    "# training 5 models using 5 different learning rates\n",
    "learning_rates = [5e-2, 1e-2, 5e-3, 1e-3, 1e-4]\n",
    "\n",
    "for learning_rate_i in learning_rates:  \n",
    "    print(\"Training model with learning rate: \", learning_rate_i)\n",
    "    \n",
    "    # store train/test accuracy and loss, and sensitivity, for all epochs\n",
    "    train_accuracies=[]\n",
    "    test_accuracies=[]\n",
    "    train_losses=[]\n",
    "    test_losses=[]\n",
    "    sensitivities=[]\n",
    "    \n",
    "    # instantiate model, move to device\n",
    "    model = DNNModel().to(device)\n",
    "\n",
    "    for epoch in range(10):\n",
    "        print(\"epoch:\", epoch)\n",
    "        \n",
    "        # train model, compute training loss and sensitivity\n",
    "        training_loss, sensitivity = train_dnn(trainset_loader, model, lr=learning_rate_i)\n",
    "           \n",
    "        # evaluate loss on test set\n",
    "        test_loss = evaluate_loss(testset_loader, model)\n",
    "        \n",
    "        # evaluate accuracy on train set\n",
    "        train_accuracy = evaluate_accuracy(trainset_loader, model)\n",
    "        \n",
    "        # evaluate accuracy on test set\n",
    "        test_accuracy = evaluate_accuracy(testset_loader, model)\n",
    "\n",
    "        # store epoch stats\n",
    "        train_losses.append(training_loss)\n",
    "        train_accuracies.append(train_accuracy)\n",
    "        sensitivities.append(sensitivity)\n",
    "        test_losses.append(test_loss)\n",
    "        test_accuracies.append(test_accuracy)\n",
    "    \n",
    "    # store mean values for current model\n",
    "    test_loss_data.append(np.mean(test_losses))\n",
    "    test_accuracy_data.append(np.mean(test_accuracies))\n",
    "    training_loss_data.append(np.mean(train_losses))\n",
    "    training_accuracy_data.append(np.mean(train_accuracies))\n",
    "    sensitivity_data.append(np.mean(sensitivities))"
   ]
  },
  {
   "cell_type": "code",
   "execution_count": 99,
   "id": "0ff5ba28-1f89-444a-91d2-7c8cfddc93d1",
   "metadata": {},
   "outputs": [
    {
     "data": {
      "image/png": "[encoded data removed]",
      "text/plain": [
       "<Figure size 640x480 with 2 Axes>"
      ]
     },
     "metadata": {},
     "output_type": "display_data"
    }
   ],
   "source": [
    "fig, ax1 = plt.subplots()\n",
    "ax1.set_xlabel('learning rate (log Scale)')\n",
    "ax1.set_xscale('log')\n",
    "ax1.set_ylabel('Accuracy', color='blue')\n",
    "ax1.plot(learning_rates, training_accuracy_data, color='blue', label=\"training\")\n",
    "ax1.plot(learning_rates, test_accuracy_data, '--', color='blue', label=\"test\")\n",
    "ax1.legend()\n",
    "ax2 = ax1.twinx()\n",
    "ax2.set_ylabel('Sensitivity', color='red')\n",
    "ax2.plot(learning_rates, sensitivity_data, color='red', label=\"sensitivity\")\n",
    "ax2.legend()\n",
    "plt.savefig('LearningRateSensitivity.png')\n",
    "plt.show()"
   ]
  },
  {
   "cell_type": "code",
   "execution_count": null,
   "id": "7676342b-6374-4ec3-8748-e9b47a34894f",
   "metadata": {},
   "outputs": [],
   "source": []
  }
 ],
 "metadata": {
  "kernelspec": {
   "display_name": "Python 3 (ipykernel)",
   "language": "python",
   "name": "python3"
  },
  "language_info": {
   "codemirror_mode": {
    "name": "ipython",
    "version": 3
   },
   "file_extension": ".py",
   "mimetype": "text/x-python",
   "name": "python",
   "nbconvert_exporter": "python",
   "pygments_lexer": "ipython3",
   "version": "3.9.13"
  }
 },
 "nbformat": 4,
 "nbformat_minor": 5
}
