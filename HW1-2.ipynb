{
 "cells": [
  {
   "cell_type": "markdown",
   "metadata": {
    "id": "9puo7cssPXv8"
   },
   "source": [
    "## Visualize the Optimization Process"
   ]
  },
  {
   "cell_type": "code",
   "execution_count": 11,
   "metadata": {
    "id": "0E9sbv2wMoMy",
    "tags": []
   },
   "outputs": [],
   "source": [
    "import torch\n",
    "import torch.nn as nn\n",
    "import torch.nn.functional as F\n",
    "import torchvision\n",
    "import torchvision.transforms as transforms\n",
    "import matplotlib.pyplot as plt\n",
    "import numpy as np\n",
    "from torch.nn.utils import parameters_to_vector, vector_to_parameters\n",
    "from torch.autograd import Variable\n",
    "from sklearn.decomposition import PCA\n",
    "import pandas as pd\n",
    "import copy\n",
    "from sklearn.preprocessing import StandardScaler\n",
    "from sklearn.preprocessing import Normalizer\n",
    "import matplotlib\n",
    "from matplotlib.pyplot import figure\n",
    "\n"
   ]
  },
  {
   "cell_type": "code",
   "execution_count": 12,
   "metadata": {
    "colab": {
     "base_uri": "https://localhost:8080/",
     "height": 457,
     "referenced_widgets": [
      "f71b5d250d2e42aeb7d89dd15018b6ea",
      "008a0d6c9d10496882d7d4c9cb9cb9d9",
      "7586d4b6fe804393ab1a84543a65c974",
      "24365b923a754b7fa9afcfc2b56152c0",
      "16290f3f7f11437e8ad3fdb18d98ab4f",
      "5768f0cbc8474c6e919fbe506f0a97c2",
      "0391dc0805d1454cae4a78fbedfd7775",
      "8c1697b8b6fc429ca0d75be196f4864a",
      "7d382227a0484f838d8e398c97942b9e",
      "d62f0889fc6c4c4c85bbe15e9bec8f90",
      "a0c688254b0444d1aa6c6fa90f6ff683",
      "78ba7f4ace9948cbb3a2ded0a88cb812",
      "788dffc4ced742689a11b224e71fa07b",
      "97d5de2b663c4b038d01e76c6fbd52e0",
      "255245d586c4434d949f8a8b0802bf27",
      "1e125399af7c4b768445ebb283b1e646",
      "c2bb008f21a84df4aab34b5e94b6d270",
      "d9da13664c084fdb96dcf9bfacc51861",
      "5cad7348b5c84f38865edbc281431f71",
      "f2a9bdd6c20045d58afa9846794f4e6e",
      "0cb54e62900048118fcba497e738e0ab",
      "91c70b59ab714c578922842db2c9ac82",
      "649eff8fd4be4821905023645d38fbc1",
      "72f57520945248f49111e1ab37ef2e3c",
      "0c08dcb150944e4abd79b126db32d832",
      "6185f8acdcf74de2a0b891b7acbbdfdc",
      "7b6e5967c65e45ff82ef633417382e0e",
      "71b7f6cabfbc463f972c2df245390dfa",
      "b026cfc07b824607be726b27a3ad7ff3",
      "622c57f54d7749dc8ad435c6bdf3c1a7",
      "49b254d5ccb345dbaf90f6fd469f8ad0",
      "581a5fd9f3214e6bb7c7570210eef316",
      "09043a55c2ad40a6891fddb2aed5fe56",
      "49fd3ae2b07f405182c18aa967196f9f",
      "4f00d225b40447fd833957d8afce79fa",
      "0b91696087f140d1af6ff5f0caf582eb",
      "fa472e9026694f3aa748c587fec70a96",
      "8395306a5c834e85a8d044da0fe4869f",
      "e3b1d3bc662a4dee95d8915ed64719da",
      "0f16544309b34f33b91078f62467e22d",
      "be8a93d4e9244856972cf0a2417895c4",
      "6c8f13f47cf54f6ea4f58bee0d30f143",
      "9da5181c9de648f09319ce02afa67910",
      "10178fdd866c4f9e991ec6af220e5deb"
     ]
    },
    "id": "t16HY9h3Mt9r",
    "outputId": "36580517-662a-4658-a276-1148dbb63d78",
    "tags": []
   },
   "outputs": [
    {
     "name": "stdout",
     "output_type": "stream",
     "text": [
      "Train_dataset size: 60000 \n",
      "Test_dataset size: 10000\n"
     ]
    }
   ],
   "source": [
    "train_dataset = torchvision.datasets.MNIST(root='./data', \n",
    "                                           train=True, \n",
    "                                           transform=transforms.ToTensor(),  \n",
    "                                           download=True)\n",
    "test_dataset = torchvision.datasets.MNIST(root='./data', \n",
    "                                          train=False, \n",
    "                                          transform=transforms.ToTensor())\n",
    "def train_loader(batch_size):\n",
    "    train_loader = torch.utils.data.DataLoader(dataset=train_dataset, \n",
    "                                           batch_size = 1000, \n",
    "                                           shuffle=True)\n",
    "    return train_loader\n",
    "\n",
    "def test_loader(batch_size):\n",
    "    test_loader = torch.utils.data.DataLoader(dataset=test_dataset, \n",
    "                                          batch_size=1000, \n",
    "                                          shuffle=False)\n",
    "    return test_loader\n",
    "print(\"Train_dataset size:\", len(train_dataset),\"\\nTest_dataset size:\", len(test_dataset))\n"
   ]
  },
  {
   "cell_type": "code",
   "execution_count": 13,
   "metadata": {
    "id": "oZul79obM_fE",
    "tags": []
   },
   "outputs": [],
   "source": [
    "class DNN(nn.Module):\n",
    "    def __init__(self,):\n",
    "        super(DNN, self).__init__()\n",
    "        self.fc1 = nn.Linear(784, 500)\n",
    "        self.fc2 = nn.Linear(500, 50)\n",
    "        self.fc3 = nn.Linear(50, 10)\n",
    "\n",
    "    def forward(self, x):\n",
    "        # flatten as one dimension\n",
    "        x = x.reshape(x.shape[0], -1)\n",
    "        x = F.relu(self.fc1(x))\n",
    "        x = F.relu(self.fc2(x))\n",
    "        x = self.fc3(x)\n",
    "        return x"
   ]
  },
  {
   "cell_type": "code",
   "execution_count": null,
   "metadata": {},
   "outputs": [],
   "source": []
  },
  {
   "cell_type": "code",
   "execution_count": 14,
   "metadata": {
    "id": "_TgiRgwiw88O",
    "tags": []
   },
   "outputs": [],
   "source": [
    "#train function\n",
    "def trainFunc(model,num_epochs,train_batch_size,status_interval):\n",
    "    model.train()\n",
    "    print('Training started')\n",
    "    train_load = train_loader(train_batch_size)\n",
    "    n_total_steps = len(train_load)\n",
    "    train_losses = []\n",
    "    train_epoch = []\n",
    "    train_acc = []\n",
    "    epoch = 0\n",
    "    modelParamWgt = pd.DataFrame()\n",
    "    trainAvgLossArr = []\n",
    "    trainAvgAccArr = []\n",
    "    firstParaWgt = {}\n",
    "\n",
    "    for epoch in range (num_epochs):\n",
    "        epoch += 1\n",
    "        n_correct = 0\n",
    "        n_samples = 0\n",
    "        lossSum =0\n",
    "        totalacc=0\n",
    "        epoch_df = pd.DataFrame()\n",
    "\n",
    "        for i, (images, labels) in enumerate(train_load):  \n",
    "            #if (i+1)% 60 == 0 : print(i+1)\n",
    "            images, labels = Variable(images),Variable(labels)\n",
    "            optimizer.zero_grad()\n",
    "            # Forward pass\n",
    "            prediction = model(images)\n",
    "            images.requires_grad = True\n",
    "            loss = loss_func(prediction, labels)\n",
    "            lossSum += loss.detach().numpy()\n",
    "            # Backward and optimize         \n",
    "            loss.backward()\n",
    "            optimizer.step()\n",
    "            \n",
    "            _, predicted = torch.max(prediction.data, 1)\n",
    "            n_samples += labels.size(0)\n",
    "            n_correct += (predicted == labels).sum().item()\n",
    "            acc = 100.0 * n_correct / n_samples\n",
    "            totalacc += acc\n",
    "\n",
    "            train_losses.append(loss.item())\n",
    "            train_acc.append(acc)\n",
    "            train_epoch.append(epoch)\n",
    "\n",
    "            #Print Status\n",
    "            if (i+1) % status_interval == 0:\n",
    "                print (f'Training   : Epoch [{epoch}/{num_epochs}], Step [{i+1}/{n_total_steps}], Loss: {loss.item():.4f}',end= '\\r')\n",
    "        \n",
    "        #Weight Collection\n",
    "        for name, parameter in model.named_parameters():\n",
    "            #print(name)\n",
    "            if'weight' in name:\n",
    "                weights = torch.nn.utils.parameters_to_vector(parameter).detach().numpy() \n",
    "                epoch_df = pd.concat([epoch_df, pd.DataFrame(weights).T], axis = 1) \n",
    "\n",
    "        modelParamWgt = pd.concat([modelParamWgt, epoch_df], axis = 0)     \n",
    "\n",
    "       \n",
    "        epochLoss = lossSum/n_total_steps\n",
    "        epochAcc = totalacc/n_total_steps\n",
    "        trainAvgLossArr.append(epochLoss)    \n",
    "        trainAvgAccArr.append(epochAcc)\n",
    "                       \n",
    "    return train_epoch,train_losses,train_acc,trainAvgLossArr,trainAvgAccArr, modelParamWgt\n"
   ]
  },
  {
   "cell_type": "code",
   "execution_count": 15,
   "metadata": {
    "tags": []
   },
   "outputs": [],
   "source": [
    "def testFunction(model,loss_func,test_batch_size): \n",
    "    test_load = test_loader(test_batch_size)\n",
    "    model.eval()\n",
    "    with torch.no_grad():\n",
    "        n_correct = 0\n",
    "        n_samples = 0\n",
    "        testLoss = 0\n",
    "        count = 0\n",
    "        for images, labels in test_load:\n",
    "            images, labels = Variable(images),Variable(labels)\n",
    "            \n",
    "            prediction = model(images)\n",
    "            testLoss += loss_func(prediction,labels).item()\n",
    "            # max returns (value ,index)\n",
    "            _, predicted = torch.max(prediction.data, 1)\n",
    "            n_samples += labels.size(0)\n",
    "            n_correct += (predicted == labels).sum().item()\n",
    "            count += 1\n",
    "    netTest_loss = testLoss/count\n",
    "    netTest_acc1 = 100.0 * n_correct / n_samples\n",
    "    print(f'Accuracy of the network on the test images: {netTest_acc1}% & Test Loss: {netTest_loss}',end= '\\r')\n",
    "    return netTest_acc1, netTest_loss"
   ]
  },
  {
   "cell_type": "code",
   "execution_count": 16,
   "metadata": {
    "colab": {
     "base_uri": "https://localhost:8080/"
    },
    "id": "DNIP3ZdkNSne",
    "outputId": "1f3c3310-e0e3-434d-c884-8a3f5fff386e",
    "tags": []
   },
   "outputs": [
    {
     "name": "stdout",
     "output_type": "stream",
     "text": [
      "Total no of parameters:418060\n"
     ]
    }
   ],
   "source": [
    "n_param=[]\n",
    "dnn1 = DNN()\n",
    "for i in dnn1.parameters():\n",
    "    n_param.append(torch.numel(i))\n",
    "print(f'Total no of parameters:{np.sum(n_param)}')"
   ]
  },
  {
   "cell_type": "code",
   "execution_count": 189,
   "metadata": {
    "tags": []
   },
   "outputs": [
    {
     "name": "stdout",
     "output_type": "stream",
     "text": [
      "DNN(\n",
      "  (fc1): Linear(in_features=784, out_features=500, bias=True)\n",
      "  (fc2): Linear(in_features=500, out_features=50, bias=True)\n",
      "  (fc3): Linear(in_features=50, out_features=10, bias=True)\n",
      ")\n"
     ]
    }
   ],
   "source": [
    "print(dnn1)"
   ]
  },
  {
   "cell_type": "code",
   "execution_count": 18,
   "metadata": {
    "colab": {
     "base_uri": "https://localhost:8080/"
    },
    "id": "80k5SaLKNXb9",
    "outputId": "4a7b4204-21a5-4716-c876-9d26b17896bd",
    "tags": []
   },
   "outputs": [
    {
     "name": "stdout",
     "output_type": "stream",
     "text": [
      "Time: 0\n",
      "Training started\n",
      "Time: 1y of the network on the test images: 98.12% & Test Loss: 0.06041333051398397\n",
      "Training started\n",
      "Time: 2y of the network on the test images: 98.08% & Test Loss: 0.060044348053634164\n",
      "Training started\n",
      "Time: 3y of the network on the test images: 98.05% & Test Loss: 0.06339300032705068\n",
      "Training started\n",
      "Time: 4y of the network on the test images: 98.12% & Test Loss: 0.06269195629283786\n",
      "Training started\n",
      "Time: 5y of the network on the test images: 98.02% & Test Loss: 0.06524213645607232\n",
      "Training started\n",
      "Time: 6y of the network on the test images: 98.0% & Test Loss: 0.06257433099672198\n",
      "Training started\n",
      "Time: 7y of the network on the test images: 98.15% & Test Loss: 0.0634900914505124\n",
      "Training started\n",
      "Accuracy of the network on the test images: 98.15% & Test Loss: 0.061388366762548684\r"
     ]
    }
   ],
   "source": [
    "max_epochs = 45\n",
    "all_df = pd.DataFrame()\n",
    "columns=[\"x\",\"y\",\"Times\"]\n",
    "trainAllacc={}\n",
    "testAllacc={}\n",
    "trainAllloss={}\n",
    "testAllloss={}\n",
    "train_batch_size = 1000\n",
    "test_batch_size = 1000\n",
    "status_interval = 60\n",
    "loss_func = nn.CrossEntropyLoss()\n",
    "firstLayer = pd.DataFrame()\n",
    "\n",
    "for count in range(8):\n",
    "    j = copy.deepcopy(count)\n",
    "    j = DNN()  \n",
    "    print(\"Time: \"+str(count))\n",
    "    optimizer = torch.optim.Adam(j.parameters(),lr = 0.0001,weight_decay=1e-4)\n",
    "    model_name1 = \"Times:\"+str(count)  \n",
    "    train_epoch,train_losses,train_acc,trainAvgLoss,trainAvgAccArr, modelParamWgt = trainFunc(j,max_epochs,train_loader,status_interval)\n",
    "    testAcc, testLoss = testFunction(j,loss_func,test_batch_size)\n",
    "\n",
    "    all_df = pd.concat([all_df, modelParamWgt], ignore_index=True)\n",
    "    testAllacc[count] = testAcc\n",
    "    trainAllloss[count] = trainAvgLoss\n",
    "    testAllloss[count] = testLoss\n",
    "    trainAllacc[count] = trainAvgAccArr"
   ]
  },
  {
   "cell_type": "code",
   "execution_count": 19,
   "metadata": {
    "colab": {
     "base_uri": "https://localhost:8080/"
    },
    "collapsed": true,
    "id": "68e3B8-iNcxx",
    "jupyter": {
     "outputs_hidden": true
    },
    "outputId": "a3aa1ef4-2254-4764-86ea-2d706b75bd33",
    "tags": []
   },
   "outputs": [
    {
     "name": "stdout",
     "output_type": "stream",
     "text": [
      "              0             1             2             3             4    \\\n",
      "0   -2.644949e-04 -3.537234e-05  8.548678e-05 -8.165441e-05 -2.020884e-05   \n",
      "1    3.948979e-05 -4.866847e-06 -7.637493e-06  3.884914e-06  8.690948e-06   \n",
      "2   -2.350328e-07  2.156727e-07 -3.553702e-07  3.192353e-08  6.144446e-07   \n",
      "3   -6.135751e-08 -1.619929e-09 -9.549265e-09  5.529757e-10 -3.366739e-08   \n",
      "4   -3.117902e-09 -3.496969e-10  6.030364e-10  2.784233e-10  1.463999e-09   \n",
      "..            ...           ...           ...           ...           ...   \n",
      "355 -1.012288e-38 -1.618503e-38 -9.813861e-39  1.363804e-38 -5.905073e-39   \n",
      "356 -1.012288e-38 -1.618503e-38 -9.813861e-39  1.363804e-38 -5.905073e-39   \n",
      "357 -1.012288e-38 -1.618503e-38 -9.813861e-39  1.363804e-38 -5.905073e-39   \n",
      "358 -1.012288e-38 -1.618503e-38 -9.813861e-39  1.363804e-38 -5.905073e-39   \n",
      "359 -1.012288e-38 -1.618503e-38 -9.813861e-39  1.363804e-38 -5.905073e-39   \n",
      "\n",
      "              5             6             7             8             9    \\\n",
      "0    1.252326e-02 -3.794373e-04  1.312551e-02 -1.443356e-02 -1.331406e-02   \n",
      "1    2.527899e-03  3.914923e-05  2.825034e-03 -3.509633e-03 -2.920476e-03   \n",
      "2    2.128900e-04  5.850840e-07  2.746482e-04 -4.388804e-04 -2.957523e-04   \n",
      "3    8.587710e-07 -1.674937e-08  4.568547e-06 -1.891297e-05 -6.066083e-06   \n",
      "4   -3.186127e-07 -9.150733e-10 -4.575695e-07  5.583060e-07  4.951314e-07   \n",
      "..            ...           ...           ...           ...           ...   \n",
      "355  2.381187e-39  8.610815e-39  1.584039e-38 -1.690821e-40 -1.452931e-38   \n",
      "356  2.381187e-39  8.610815e-39  1.584039e-38 -1.690821e-40 -1.452931e-38   \n",
      "357  2.381187e-39  8.610815e-39  1.584039e-38 -1.690821e-40 -1.452931e-38   \n",
      "358  2.381187e-39  8.610815e-39  1.584039e-38 -1.690821e-40 -1.452931e-38   \n",
      "359  2.381187e-39  8.610815e-39  1.584039e-38 -1.690821e-40 -1.452931e-38   \n",
      "\n",
      "     ...       490       491       492       493       494       495  \\\n",
      "0    ... -0.130347 -0.142434 -0.036819 -0.006563 -0.020265 -0.092265   \n",
      "1    ... -0.139556 -0.145304 -0.040066 -0.003011 -0.017500 -0.105374   \n",
      "2    ... -0.143517 -0.144824 -0.041454 -0.001025 -0.017895 -0.113391   \n",
      "3    ... -0.146333 -0.144946 -0.042271 -0.000261 -0.017932 -0.120344   \n",
      "4    ... -0.149313 -0.147158 -0.042916 -0.000177 -0.016991 -0.128035   \n",
      "..   ...       ...       ...       ...       ...       ...       ...   \n",
      "355  ... -0.318275 -0.102407  0.048119 -0.050718 -0.150964 -0.086887   \n",
      "356  ... -0.321486 -0.103824  0.048448 -0.051417 -0.151623 -0.088113   \n",
      "357  ... -0.324628 -0.104914  0.048902 -0.052079 -0.152618 -0.089463   \n",
      "358  ... -0.327687 -0.106027  0.049169 -0.052703 -0.153561 -0.090843   \n",
      "359  ... -0.330238 -0.107008  0.049787 -0.053308 -0.154188 -0.091895   \n",
      "\n",
      "          496       497       498       499  \n",
      "0   -0.099794 -0.017643 -0.133258  0.024358  \n",
      "1   -0.104393 -0.013384 -0.146307  0.030249  \n",
      "2   -0.107559 -0.013025 -0.155174  0.037261  \n",
      "3   -0.109811 -0.013131 -0.162280  0.042476  \n",
      "4   -0.111511 -0.012626 -0.170519  0.047333  \n",
      "..        ...       ...       ...       ...  \n",
      "355 -0.029942 -0.016707  0.145141 -0.361470  \n",
      "356 -0.030114 -0.016990  0.146598 -0.365446  \n",
      "357 -0.030079 -0.017231  0.148073 -0.369403  \n",
      "358 -0.030017 -0.017546  0.149550 -0.373308  \n",
      "359 -0.029773 -0.017559  0.151128 -0.376963  \n",
      "\n",
      "[360 rows x 417500 columns]\n",
      "Shape of Loss:(360,) & Shape of Acc: (360,)\n",
      "              0             1             2             3             4    \\\n",
      "0   -2.644949e-04 -3.537234e-05  8.548678e-05 -8.165441e-05 -2.020884e-05   \n",
      "1    3.948979e-05 -4.866847e-06 -7.637493e-06  3.884914e-06  8.690948e-06   \n",
      "2   -2.350328e-07  2.156727e-07 -3.553702e-07  3.192353e-08  6.144446e-07   \n",
      "3   -6.135751e-08 -1.619929e-09 -9.549265e-09  5.529757e-10 -3.366739e-08   \n",
      "4   -3.117902e-09 -3.496969e-10  6.030364e-10  2.784233e-10  1.463999e-09   \n",
      "..            ...           ...           ...           ...           ...   \n",
      "355 -1.012288e-38 -1.618503e-38 -9.813861e-39  1.363804e-38 -5.905073e-39   \n",
      "356 -1.012288e-38 -1.618503e-38 -9.813861e-39  1.363804e-38 -5.905073e-39   \n",
      "357 -1.012288e-38 -1.618503e-38 -9.813861e-39  1.363804e-38 -5.905073e-39   \n",
      "358 -1.012288e-38 -1.618503e-38 -9.813861e-39  1.363804e-38 -5.905073e-39   \n",
      "359 -1.012288e-38 -1.618503e-38 -9.813861e-39  1.363804e-38 -5.905073e-39   \n",
      "\n",
      "              5             6             7             8             9    \\\n",
      "0    1.252326e-02 -3.794373e-04  1.312551e-02 -1.443356e-02 -1.331406e-02   \n",
      "1    2.527899e-03  3.914923e-05  2.825034e-03 -3.509633e-03 -2.920476e-03   \n",
      "2    2.128900e-04  5.850840e-07  2.746482e-04 -4.388804e-04 -2.957523e-04   \n",
      "3    8.587710e-07 -1.674937e-08  4.568547e-06 -1.891297e-05 -6.066083e-06   \n",
      "4   -3.186127e-07 -9.150733e-10 -4.575695e-07  5.583060e-07  4.951314e-07   \n",
      "..            ...           ...           ...           ...           ...   \n",
      "355  2.381187e-39  8.610815e-39  1.584039e-38 -1.690821e-40 -1.452931e-38   \n",
      "356  2.381187e-39  8.610815e-39  1.584039e-38 -1.690821e-40 -1.452931e-38   \n",
      "357  2.381187e-39  8.610815e-39  1.584039e-38 -1.690821e-40 -1.452931e-38   \n",
      "358  2.381187e-39  8.610815e-39  1.584039e-38 -1.690821e-40 -1.452931e-38   \n",
      "359  2.381187e-39  8.610815e-39  1.584039e-38 -1.690821e-40 -1.452931e-38   \n",
      "\n",
      "     ...       490       491       492       493       494       495  \\\n",
      "0    ... -0.130347 -0.142434 -0.036819 -0.006563 -0.020265 -0.092265   \n",
      "1    ... -0.139556 -0.145304 -0.040066 -0.003011 -0.017500 -0.105374   \n",
      "2    ... -0.143517 -0.144824 -0.041454 -0.001025 -0.017895 -0.113391   \n",
      "3    ... -0.146333 -0.144946 -0.042271 -0.000261 -0.017932 -0.120344   \n",
      "4    ... -0.149313 -0.147158 -0.042916 -0.000177 -0.016991 -0.128035   \n",
      "..   ...       ...       ...       ...       ...       ...       ...   \n",
      "355  ... -0.318275 -0.102407  0.048119 -0.050718 -0.150964 -0.086887   \n",
      "356  ... -0.321486 -0.103824  0.048448 -0.051417 -0.151623 -0.088113   \n",
      "357  ... -0.324628 -0.104914  0.048902 -0.052079 -0.152618 -0.089463   \n",
      "358  ... -0.327687 -0.106027  0.049169 -0.052703 -0.153561 -0.090843   \n",
      "359  ... -0.330238 -0.107008  0.049787 -0.053308 -0.154188 -0.091895   \n",
      "\n",
      "          496       497       498       499  \n",
      "0   -0.099794 -0.017643 -0.133258  0.024358  \n",
      "1   -0.104393 -0.013384 -0.146307  0.030249  \n",
      "2   -0.107559 -0.013025 -0.155174  0.037261  \n",
      "3   -0.109811 -0.013131 -0.162280  0.042476  \n",
      "4   -0.111511 -0.012626 -0.170519  0.047333  \n",
      "..        ...       ...       ...       ...  \n",
      "355 -0.029942 -0.016707  0.145141 -0.361470  \n",
      "356 -0.030114 -0.016990  0.146598 -0.365446  \n",
      "357 -0.030079 -0.017231  0.148073 -0.369403  \n",
      "358 -0.030017 -0.017546  0.149550 -0.373308  \n",
      "359 -0.029773 -0.017559  0.151128 -0.376963  \n",
      "\n",
      "[360 rows x 417500 columns]\n"
     ]
    }
   ],
   "source": [
    "trainAccArr = []\n",
    "for key,values in enumerate(trainAllacc):\n",
    "    trainAccArr.append(trainAllacc[key])\n",
    "trainLossArr = []\n",
    "for key,values in enumerate(trainAllloss):\n",
    "    trainLossArr.append(trainAllloss[key])\n",
    "print(all_df)\n",
    "train_acc_df = pd.DataFrame(trainAccArr)\n",
    "train_acc_data = np.array(train_acc_df).flatten()\n",
    "\n",
    "train_loss_df = pd.DataFrame(trainLossArr)\n",
    "train_loss_data = np.array(train_loss_df).flatten()\n",
    "\n",
    "print(f'Shape of Loss:{np.shape(train_loss_data)} & Shape of Acc: {np.shape(train_acc_data)}')\n",
    "t1 = all_df\n",
    "print(pd.DataFrame(t1))\n"
   ]
  },
  {
   "cell_type": "code",
   "execution_count": 20,
   "metadata": {
    "id": "uhhqk_poNOll",
    "tags": []
   },
   "outputs": [],
   "source": [
    "def pcaOps(paramDF,itr):\n",
    "    pcaOperation =  PCA(n_components=2)\n",
    "    pcaVal = pcaOperation.fit_transform(paramDF)\n",
    "    itrData = np.full((pcaVal.shape[0],1),itr)\n",
    "    pcaDf = pd.DataFrame(np.append(pcaVal,itrData,axis=1),columns=['x','y','Itr No.'])\n",
    "    return pcaDf\n"
   ]
  },
  {
   "cell_type": "code",
   "execution_count": 45,
   "metadata": {
    "colab": {
     "base_uri": "https://localhost:8080/"
    },
    "id": "yVb3C9aWN6mQ",
    "outputId": "26579426-c1d4-4daa-860f-c6e7a0c0e570",
    "tags": []
   },
   "outputs": [
    {
     "name": "stdout",
     "output_type": "stream",
     "text": [
      "            x          y  Epoch  Iteration        Acc      Loss\n",
      "0   -1.894482   1.526771      0          0  50.186118  1.332190\n",
      "1   -2.345546   1.852000      1          0  88.222691  0.399453\n",
      "2   -2.621713   2.052901      2          0  91.140650  0.298663\n",
      "3   -2.845823   2.216753      3          0  92.436262  0.257039\n",
      "4   -3.041635   2.367574      4          0  93.544159  0.226864\n",
      "..        ...        ...    ...        ...        ...       ...\n",
      "355  1.973913  12.130998     40          7  99.589320  0.021343\n",
      "356  1.969100  12.105392     41          7  99.719770  0.020002\n",
      "357  1.967015  12.080326     42          7  99.727790  0.018760\n",
      "358  1.961639  12.052354     43          7  99.681879  0.018192\n",
      "359  1.958704  12.020760     44          7  99.746127  0.017328\n",
      "\n",
      "[360 rows x 6 columns]\n",
      "            x          y  Epoch  Iteration        Acc      Loss\n",
      "0   -2.621713   2.052901      2          0  91.140650  0.298663\n",
      "1   -3.215788   2.504078      5          0  94.145111  0.202111\n",
      "2   -3.609327   2.812418      8          0  95.670888  0.149134\n",
      "3   -3.884152   3.029516     11          0  96.689069  0.115623\n",
      "4   -4.076202   3.187293     14          0  97.371086  0.092831\n",
      "..        ...        ...    ...        ...        ...       ...\n",
      "115  1.979166  12.220222     32          7  99.328522  0.032178\n",
      "116  1.983333  12.211355     35          7  99.525899  0.026917\n",
      "117  1.979545  12.166877     38          7  99.590048  0.022896\n",
      "118  1.969100  12.105392     41          7  99.719770  0.020002\n",
      "119  1.958704  12.020760     44          7  99.746127  0.017328\n",
      "\n",
      "[120 rows x 6 columns]\n"
     ]
    }
   ],
   "source": [
    "t1 = np.array(t1)\n",
    "pca = PCA(n_components=2)\n",
    "new_data = pca.fit_transform(t1)\n",
    "allEpochDf = pd.DataFrame(new_data,columns=['x','y'])\n",
    "eps_each_time = [i for i in range(max_epochs)] * 8\n",
    "times = np.repeat([i for i in range(8)],max_epochs)\n",
    "\n",
    "allEpochDf['Epoch']=eps_each_time\n",
    "allEpochDf['Iteration']=(times)\n",
    "allEpochDf[\"Acc\"] = train_acc_data\n",
    "allEpochDf[\"Loss\"] = train_loss_data\n",
    "\n",
    "print(allEpochDf)\n",
    "epoch3Df = allEpochDf.loc[(allEpochDf['Epoch']+1)%3 == 0]\n",
    "epoch3Df = epoch3Df.reset_index(drop=True)\n",
    "print(epoch3Df)\n"
   ]
  },
  {
   "cell_type": "code",
   "execution_count": 22,
   "metadata": {
    "colab": {
     "base_uri": "https://localhost:8080/"
    },
    "id": "R1kcoM_qN6qM",
    "outputId": "ddcf0a99-9013-422d-ea3c-7fa7904b133b"
   },
   "outputs": [
    {
     "data": {
      "text/plain": [
       "120"
      ]
     },
     "execution_count": 22,
     "metadata": {},
     "output_type": "execute_result"
    }
   ],
   "source": [
    "test = np.array(epoch3Df.Acc)\n",
    "mv = []\n",
    "for i in range(len(test)):\n",
    "    mv.append(str(int(test[i])))\n",
    "len(mv)"
   ]
  },
  {
   "cell_type": "markdown",
   "metadata": {},
   "source": [
    "### Plot PCA"
   ]
  },
  {
   "cell_type": "code",
   "execution_count": 194,
   "metadata": {
    "colab": {
     "base_uri": "https://localhost:8080/",
     "height": 298
    },
    "id": "70IEdcjuN6sy",
    "outputId": "5f42437c-995f-4cff-fd39-1862ddfa0557"
   },
   "outputs": [
    {
     "data": {
      "image/png": "[encoded data removed]",
      "text/plain": [
       "<Figure size 640x480 with 1 Axes>"
      ]
     },
     "metadata": {},
     "output_type": "display_data"
    }
   ],
   "source": [
    "for i in range(len(mv)):\n",
    "    plt.scatter(epoch3Df['x'][i],epoch3Df['y'][i],marker='o')\n",
    "    plt.title(\"PCA for whole model\")\n",
    "    \n",
    "# plt.figure(figsize=[10,5])\n",
    "plt.savefig('pcaModel.png')\n",
    "plt.show()"
   ]
  },
  {
   "cell_type": "markdown",
   "metadata": {},
   "source": [
    "### PCA for Single Layer"
   ]
  },
  {
   "cell_type": "code",
   "execution_count": 47,
   "metadata": {
    "colab": {
     "base_uri": "https://localhost:8080/",
     "height": 524
    },
    "id": "iv_DA5wsObbJ",
    "outputId": "667d126f-1838-4c57-85ee-87f3d19c9ba3"
   },
   "outputs": [
    {
     "data": {
      "image/png": "[encoded data removed]",
      "text/plain": [
       "<Figure size 640x480 with 1 Axes>"
      ]
     },
     "metadata": {},
     "output_type": "display_data"
    }
   ],
   "source": [
    "layer1_Df = all_df.iloc[:,0:7840]\n",
    "t2 = layer1_Df \n",
    "t2 = np.array(t2)\n",
    "pca = PCA(n_components=2)\n",
    "new_data2 = pca.fit_transform(t2)\n",
    "\n",
    "layer1Df = pd.DataFrame(new_data2,columns=['x','y'])\n",
    "eps_each_time = [i for i in range(max_epochs)] * 8\n",
    "times = np.repeat([i for i in range(8)],max_epochs)\n",
    "\n",
    "layer1Df['Epoch']=eps_each_time\n",
    "layer1Df['Iteration']=(times)\n",
    "layer1Df[\"Acc\"] = train_acc_data\n",
    "layer1Df[\"Loss\"] = train_loss_data\n",
    "\n",
    "for i in range(len(mv)):\n",
    "    plt.scatter(layer1Df['x'][i],layer1Df['y'][i],marker='+')\n",
    "    plt.title(\"PCA for Layer1\")\n",
    "\n",
    "plt.savefig('PCA_Layer1.png')\n",
    "plt.show()"
   ]
  },
  {
   "cell_type": "markdown",
   "metadata": {
    "id": "i2S84TTPP9BT"
   },
   "source": [
    "## Visualize the Optimization Process"
   ]
  },
  {
   "cell_type": "code",
   "execution_count": 54,
   "metadata": {
    "colab": {
     "base_uri": "https://localhost:8080/"
    },
    "id": "oK0pnZWgQIkg",
    "outputId": "67637e91-2065-4b91-a807-ac083c3a1e9a"
   },
   "outputs": [
    {
     "name": "stdout",
     "output_type": "stream",
     "text": [
      "torch.Size([300, 1]) torch.Size([300, 1])\n"
     ]
    }
   ],
   "source": [
    "#Assume our nonlinear Sinc function\n",
    "x = torch.unsqueeze(torch.linspace(-1, 1, 300), dim=1) \n",
    "y = (np.sin(5*np.pi*x))/(5*np.pi*x) \n",
    "print(x.shape,y.shape)\n",
    "\n",
    "#x, y = torch.tensor(x, dtype=torch.float32), torch.tensor(y, dtype=torch.float32)\n",
    "x = x.clone().detach()\n",
    "y = y.clone().detach()\n",
    "n_samples, n_features = x.shape\n"
   ]
  },
  {
   "cell_type": "code",
   "execution_count": 196,
   "metadata": {
    "id": "W6w3ITSmQeSL"
   },
   "outputs": [],
   "source": [
    "class M1(nn.Module):\n",
    "    def __init__(self,):\n",
    "        super(M1, self).__init__()\n",
    "        self.fc1 = nn.Linear(1, 500)\n",
    "        self.fc2 = nn.Linear(500, 1)\n",
    "\n",
    "    def forward(self, x):\n",
    "        # flatten as one dimension\n",
    "        x = F.relu(self.fc1(x))\n",
    "        x = self.fc2(x)\n",
    "        return x"
   ]
  },
  {
   "cell_type": "code",
   "execution_count": 73,
   "metadata": {
    "id": "TOG6GJDCQeXP"
   },
   "outputs": [],
   "source": [
    "def trainFunc(model,x,y):\n",
    "    max_epoch = 5000\n",
    "    epoch_arr,loss_arr=[],[]\n",
    "    isConverged = False\n",
    "    epoch = 0\n",
    "    gradArr = []\n",
    "    while isConverged==False:\n",
    "        epoch += 1\n",
    "        prediction = model(x)     # input x and predict based on x\n",
    "        loss = loss_func(prediction, y)     \n",
    "        optimizer.zero_grad()   # clear gradients for next train\n",
    "        loss.backward()         # backpropagation, compute gradients\n",
    "        optimizer.step() \n",
    "        \n",
    "        epoch_arr.append(epoch)\n",
    "        loss_arr.append(loss.detach().numpy())\n",
    "\n",
    "        #Generating Gradient Norm\n",
    "        grad_all = 0.0\n",
    "        for p in model.parameters():\n",
    "            grad = 0.0\n",
    "            if p.grad is not None:\n",
    "                grad = (p.grad.cpu().data.numpy()**2).sum()\n",
    "            grad_all += grad\n",
    "        grad_norm = grad_all ** 0.5         \n",
    "        gradArr.append(grad_norm)\n",
    "        \n",
    "        if epoch%500 == 0 : print(f'epoch: {epoch}, loss = {loss.item():.4f}, grad_norm = {grad_norm}') #, weight = {model.weight.item()},  bias ={model.bias.item()}')\n",
    "        if epoch == max_epoch:\n",
    "                print(\"Max Epoch Reached\")\n",
    "                break\n",
    "        elif (epoch > 5) and  (loss_arr[-1] < 0.001):\n",
    "            if abs(loss_arr[-3] - loss_arr[-2]) < 1.0e-05 and abs(loss_arr[-2] - loss_arr[-1]) < 1.0e-05:\n",
    "                print(\"Convergeance reached for loss:\",loss_arr[-1])\n",
    "                break\n",
    "        \n",
    "        \n",
    "                \n",
    "    return epoch_arr,loss_arr,prediction,grad_norm,gradArr"
   ]
  },
  {
   "cell_type": "code",
   "execution_count": 74,
   "metadata": {
    "colab": {
     "base_uri": "https://localhost:8080/"
    },
    "id": "uHSTG_QVQIoc",
    "outputId": "a315fb85-780c-4236-b3ac-e5449a7958fc"
   },
   "outputs": [
    {
     "name": "stdout",
     "output_type": "stream",
     "text": [
      "Total no of parameters in Model 1: 1501\n",
      "epoch: 500, loss = 0.0590, grad_norm = 0.05136635242607349\n",
      "epoch: 1000, loss = 0.0424, grad_norm = 0.03661318349596279\n",
      "epoch: 1500, loss = 0.0279, grad_norm = 0.029306211842592664\n",
      "epoch: 2000, loss = 0.0173, grad_norm = 0.02154561239149089\n",
      "epoch: 2500, loss = 0.0111, grad_norm = 0.014726571371693744\n",
      "epoch: 3000, loss = 0.0075, grad_norm = 0.009959372587828462\n",
      "epoch: 3500, loss = 0.0055, grad_norm = 0.0068212949037145\n",
      "epoch: 4000, loss = 0.0042, grad_norm = 0.005127967279631439\n",
      "epoch: 4500, loss = 0.0032, grad_norm = 0.004152102648647062\n",
      "epoch: 5000, loss = 0.0024, grad_norm = 0.0034227616907707412\n",
      "Max Epoch Reached\n"
     ]
    }
   ],
   "source": [
    "torch.manual_seed(1)\n",
    "m1 = M1()     # define the network\n",
    "optimizer = torch.optim.Adam(m1.parameters(), lr=1e-4, weight_decay = 1e-4)\n",
    "loss_func = torch.nn.MSELoss()  # this is for regression mean squared loss\n",
    "\n",
    "a=[]\n",
    "for i in m1.parameters():\n",
    "    a.append(torch.numel(i))\n",
    "print('Total no of parameters in Model 1:', np.sum(a),)\n",
    "M1epoch_arr,M1loss_arr,M1prediction,M1grad_norm,M1gradArr = trainFunc(m1,x,y)"
   ]
  },
  {
   "cell_type": "code",
   "execution_count": 195,
   "metadata": {
    "tags": []
   },
   "outputs": [
    {
     "name": "stdout",
     "output_type": "stream",
     "text": [
      "M1(\n",
      "  (fc1): Linear(in_features=1, out_features=500, bias=True)\n",
      "  (fc2): Linear(in_features=500, out_features=1, bias=True)\n",
      ")\n"
     ]
    }
   ],
   "source": [
    "print(m1)"
   ]
  },
  {
   "cell_type": "code",
   "execution_count": 77,
   "metadata": {
    "colab": {
     "base_uri": "https://localhost:8080/",
     "height": 573
    },
    "id": "IumGjmkdQIsk",
    "outputId": "24fea74d-5f77-42ff-b46d-7b719a1dd413"
   },
   "outputs": [
    {
     "data": {
      "image/png": "[encoded data removed]",
      "text/plain": [
       "<Figure size 640x480 with 1 Axes>"
      ]
     },
     "metadata": {},
     "output_type": "display_data"
    },
    {
     "data": {
      "image/png": "[encoded data removed]",
      "text/plain": [
       "<Figure size 640x480 with 1 Axes>"
      ]
     },
     "metadata": {},
     "output_type": "display_data"
    }
   ],
   "source": [
    "plt.plot(M1epoch_arr,M1gradArr)\n",
    "plt.title('Gradiant Norm during training')\n",
    "plt.xlabel(\"Epoch\")\n",
    "plt.ylabel(\"Gradient Norm\")\n",
    "plt.savefig('GradientNorm.png')\n",
    "plt.show()\n",
    "\n",
    "plt.plot(M1epoch_arr,M1loss_arr)\n",
    "plt.title('Loss during training')\n",
    "plt.xlabel(\"Epoch\")\n",
    "plt.ylabel(\"Loss\")\n",
    "plt.savefig('Loss.png')\n",
    "plt.show()"
   ]
  },
  {
   "cell_type": "markdown",
   "metadata": {
    "id": "WtHYsziyQ8U0"
   },
   "source": [
    "3.What Happened When Gradient is Almost Zero"
   ]
  },
  {
   "cell_type": "code",
   "execution_count": 79,
   "metadata": {
    "colab": {
     "base_uri": "https://localhost:8080/"
    },
    "id": "CVW2X4ypRGsR",
    "outputId": "e08cdd55-8438-42aa-89e8-ada5fd5f9bde"
   },
   "outputs": [],
   "source": [
    "!pip install autograd_lib\n",
    "from torch.optim import lr_scheduler\n",
    "import torch.nn.functional as F\n",
    "import numpy as np\n",
    "from collections import defaultdict\n",
    "from autograd_lib import autograd_lib\n",
    "from torch.utils.data import DataLoader, TensorDataset"
   ]
  },
  {
   "cell_type": "code",
   "execution_count": 80,
   "metadata": {
    "id": "TpXy8hjaRGv2"
   },
   "outputs": [],
   "source": [
    "Y_func = lambda x : (torch.sin(5*np.pi*x)) /(5*np.pi*x) \n",
    "num_of_rows = 300\n",
    "X= torch.unsqueeze(torch.linspace(-1,1,num_of_rows),dim=1)\n",
    "Y = Y_func(X)\n",
    "dataset = TensorDataset(X,Y)\n",
    "data_loader = DataLoader(dataset,1,shuffle=True)"
   ]
  },
  {
   "cell_type": "code",
   "execution_count": 158,
   "metadata": {
    "id": "XKbsQAH0RG1l"
   },
   "outputs": [],
   "source": [
    "class MathRegressor(nn.Module):\n",
    "    def __init__(self, num_hidden=128):\n",
    "        super().__init__()\n",
    "        self.regressor = nn.Sequential(\n",
    "            nn.Linear(1, num_hidden),\n",
    "            nn.ReLU(),\n",
    "            nn.Linear(num_hidden, 1)\n",
    "        )\n",
    "\n",
    "    def forward(self, x):\n",
    "        x = self.regressor(x)\n",
    "        return x\n",
    "    \n",
    "    def training_step(self, batch,loss_fn):\n",
    "        inputs, targets = batch \n",
    "        out = self(inputs)                 # Generate predictions\n",
    "        loss = loss_fn(out, targets)    # Calculate loss\n",
    "        return loss\n",
    "    \n",
    "    def validation_step(self, batch,loss_fn):\n",
    "        inputs, targets = batch \n",
    "        out = self(inputs)                 # Generate predictions\n",
    "        loss = loss_fn(out, targets)    # Calculate loss\n",
    "        return {'val_loss': loss.detach()}\n",
    "    \n",
    "    def validation_epoch_end(self, outputs):\n",
    "        batch_losses = [x['val_loss'] for x in outputs]\n",
    "        epoch_loss = torch.stack(batch_losses).mean()   # Combine losses\n",
    "        return {'val_loss': epoch_loss.item()}\n",
    "    \n",
    "    def train_step(self, batch,loss_fn):\n",
    "        inputs, targets = batch \n",
    "        out = self(inputs)                 # Generate predictions\n",
    "        loss = loss_fn(out, targets)    # Calculate loss\n",
    "        return {'train_loss': loss.detach()}\n",
    "    \n",
    "    def train_epoch_end(self, outputs):\n",
    "        batch_losses = [x['train_loss'] for x in outputs]\n",
    "        epoch_loss = torch.stack(batch_losses).mean()   # Combine losses\n",
    "        return {'train_loss': epoch_loss.item()}\n",
    "    \n",
    "    "
   ]
  },
  {
   "cell_type": "code",
   "execution_count": 159,
   "metadata": {
    "id": "V8uiornERG4L"
   },
   "outputs": [],
   "source": [
    "def compute_gradient_norm(model, criterion, train, target):\n",
    "    model.train()\n",
    "    model.zero_grad()\n",
    "    output = model(train)\n",
    "    loss = criterion(output, target)\n",
    "    loss.backward()\n",
    "\n",
    "    grads = []\n",
    "    for p in model.regressor.children():\n",
    "        if isinstance(p, nn.Linear):\n",
    "            param_norm = p.weight.grad.norm(2).item()\n",
    "            grads.append(param_norm)\n",
    "\n",
    "    grad_mean = np.mean(grads) \n",
    "    return grad_mean\n",
    "\n",
    "def save_activations(layer, A, _):\n",
    "    activations[layer] = A\n",
    "\n",
    "def compute_hess(layer, _, B):\n",
    "    A = activations[layer]\n",
    "    BA = torch.einsum('nl,ni->nli', B, A) \n",
    "    hess[layer] += torch.einsum('nli,nkj->likj', BA, BA)\n",
    "\n",
    ", V = torch.linalg.eigh(A, UPLO='U' if upper else 'L')\n",
    "\n",
    "def compute_minimum_ratio(model, criterion, train, target):\n",
    "    model.zero_grad()\n",
    "    \n",
    "    with autograd_lib.module_hook(save_activations):\n",
    "        output = model(train)\n",
    "        loss = criterion(output, target)\n",
    "\n",
    "    with autograd_lib.module_hook(compute_hess):\n",
    "        autograd_lib.backward_hessian(output, loss='LeastSquares')\n",
    "\n",
    "    layer_hess = list(hess.values())\n",
    "    minimum_ratio = []\n",
    "\n",
    "    for h in layer_hess:\n",
    "        size = h.shape[0] * h.shape[1]\n",
    "        h = h.reshape(size, size)\n",
    "        h_eig =torch.linalg.eigvalsh(h, 'L')\n",
    "        minimum_ratio.append(torch.sum(h_eig>0).item()/ len(h_eig))\n",
    "\n",
    "    ratio_mean = np.mean(minimum_ratio) \n",
    "    return ratio_mean\n"
   ]
  },
  {
   "cell_type": "code",
   "execution_count": 170,
   "metadata": {
    "id": "bfad0bb3"
   },
   "outputs": [],
   "source": [
    "def get_norm_minimal_ratio(model,criterion):\n",
    "\n",
    "    gradient_norm = compute_gradient_norm(model, criterion, X, Y)\n",
    "    minimum_ratio = compute_minimum_ratio(model, criterion, X, Y)\n",
    "    result = {}\n",
    "    result[\"grad_norm\"] = gradient_norm\n",
    "    result[\"ratio\"] = minimum_ratio\n",
    "    \n",
    "    return result"
   ]
  },
  {
   "cell_type": "code",
   "execution_count": 171,
   "metadata": {
    "id": "9e38ccc7"
   },
   "outputs": [],
   "source": [
    "def evaluate(model,loss_fn, val_loader):\n",
    "    outputs = [model.validation_step(batch,loss_fn) for batch in val_loader]\n",
    "    return model.validation_epoch_end(outputs)\n",
    "\n",
    "def evaluate2(model,loss_fn, train_loader):\n",
    "    outputs = [model.train_step(batch,loss_fn) for batch in train_loader]\n",
    "    return model.train_epoch_end(outputs)\n",
    "\n",
    "def get_grad_norm(model):\n",
    "    grad_all=0.0\n",
    "    grad =0   \n",
    "    for p in model.parameters():\n",
    "        if p.grad is not None:\n",
    "            grad = (p.grad.cpu().data.numpy()**2).sum()\n",
    "            \n",
    "        grad_all+=grad\n",
    "        \n",
    "    grad_norm=grad_all ** 0.5\n",
    "    return grad_norm\n",
    "\n",
    "def fit(epochs, lr, model, data_loader, criterion,opt_func):\n",
    "    history = []\n",
    "    comparing_epoch_loss =1000.0\n",
    "    grad_norm_per_epoch={}\n",
    "    \n",
    "    optimizer = opt_func(model.parameters(), lr)\n",
    "    for epoch in range(epochs):\n",
    "        optimizer.zero_grad()\n",
    "        prediction = model(X)\n",
    "        loss = criterion(prediction, Y)\n",
    "        loss.backward()\n",
    "        grad_norm_per_epoch[epoch] = get_norm_minimal_ratio(model,criterion)\n",
    "        optimizer.step() \n",
    "        optimizer.zero_grad()\n",
    "        result = evaluate(model,criterion, data_loader)\n",
    "        #model.epoch_end(epoch, result)\n",
    "        history.append(result)\n",
    "        if epoch == 900:\n",
    "            comparing_epoch_loss= result[\"val_loss\"]\n",
    "    return history,grad_norm_per_epoch,model"
   ]
  },
  {
   "cell_type": "code",
   "execution_count": 203,
   "metadata": {
    "id": "a77cd0b4"
   },
   "outputs": [],
   "source": [
    "num_of_rows = 300\n",
    "lr = 0.0001\n",
    "gamma_lr_scheduler = 0.1 \n",
    "weight_decay = 1e-4"
   ]
  },
  {
   "cell_type": "code",
   "execution_count": 204,
   "metadata": {
    "id": "1d32ce98"
   },
   "outputs": [],
   "source": [
    "criterion = nn.MSELoss()\n",
    "optimizer = torch.optim.Adam\n",
    "num_epochs =5000\n",
    "input_size=1\n",
    "output_size=1\n",
    "model= MathRegressor()"
   ]
  },
  {
   "cell_type": "code",
   "execution_count": 205,
   "metadata": {
    "id": "633cc590"
   },
   "outputs": [],
   "source": [
    "autograd_lib.register(model)\n",
    "activations = defaultdict(int)\n",
    "hess = defaultdict(float)  "
   ]
  },
  {
   "cell_type": "code",
   "execution_count": 206,
   "metadata": {
    "colab": {
     "base_uri": "https://localhost:8080/"
    },
    "id": "0d077eee",
    "outputId": "4f6cea57-968d-4255-c227-23b47b21fd35"
   },
   "outputs": [],
   "source": [
    "result_1 = evaluate(model,criterion,data_loader)"
   ]
  },
  {
   "cell_type": "code",
   "execution_count": 207,
   "metadata": {
    "id": "201af232"
   },
   "outputs": [],
   "source": [
    "train,target = X,Y"
   ]
  },
  {
   "cell_type": "code",
   "execution_count": 208,
   "metadata": {
    "colab": {
     "base_uri": "https://localhost:8080/"
    },
    "id": "64cb8bdd",
    "outputId": "ad8e5fed-bbba-4ca4-8675-faf0ea5d4d14",
    "tags": []
   },
   "outputs": [],
   "source": [
    "model_1 = M1()   #Use the same simpler DNN model as previous exercise\n",
    "history_1,grad_norm_1,model  = fit(num_epochs, lr, model, data_loader, criterion,optimizer)"
   ]
  },
  {
   "cell_type": "code",
   "execution_count": 198,
   "metadata": {
    "colab": {
     "base_uri": "https://localhost:8080/",
     "height": 621
    },
    "id": "6f17a6cb",
    "outputId": "f3d42300-e43f-48c5-dec2-4419468573b8",
    "tags": []
   },
   "outputs": [
    {
     "data": {
      "image/png": "[encoded data removed]",
      "text/plain": [
       "<Figure size 1000x500 with 1 Axes>"
      ]
     },
     "metadata": {},
     "output_type": "display_data"
    }
   ],
   "source": [
    "val_losses_1 = [r['val_loss'] for r in history_1]\n",
    "minimal_ratio_eps = [i['ratio'] for i in grad_norm_1.values() ]\n",
    "\n",
    "plt.figure(figsize=(10,5))\n",
    "plt.scatter(minimal_ratio_eps,val_losses_1,color = 'red')\n",
    "plt.xlabel('Loss')\n",
    "plt.ylabel('Minimal ratio')\n",
    "plt.title('Minimal ratio vs Loss');\n",
    "plt.plot()\n",
    "plt.savefig('gradZero.png')\n"
   ]
  },
  {
   "cell_type": "code",
   "execution_count": null,
   "metadata": {},
   "outputs": [],
   "source": []
  }
 ],
 "metadata": {
  "colab": {
   "provenance": []
  },
  "kernelspec": {
   "display_name": "Python 3 (ipykernel)",
   "language": "python",
   "name": "python3"
  },
  "language_info": {
   "codemirror_mode": {
    "name": "ipython",
    "version": 3
   },
   "file_extension": ".py",
   "mimetype": "text/x-python",
   "name": "python",
   "nbconvert_exporter": "python",
   "pygments_lexer": "ipython3",
   "version": "3.11.5"
  },
  "widgets": {
   "application/vnd.jupyter.widget-state+json": {
    "008a0d6c9d10496882d7d4c9cb9cb9d9": {
     "model_module": "@jupyter-widgets/controls",
     "model_module_version": "1.5.0",
     "model_name": "HTMLModel",
     "state": {
      "_dom_classes": [],
      "_model_module": "@jupyter-widgets/controls",
      "_model_module_version": "1.5.0",
      "_model_name": "HTMLModel",
      "_view_count": null,
      "_view_module": "@jupyter-widgets/controls",
      "_view_module_version": "1.5.0",
      "_view_name": "HTMLView",
      "description": "",
      "description_tooltip": null,
      "layout": "IPY_MODEL_5768f0cbc8474c6e919fbe506f0a97c2",
      "placeholder": "​",
      "style": "IPY_MODEL_0391dc0805d1454cae4a78fbedfd7775",
      "value": "100%"
     }
    },
    "0391dc0805d1454cae4a78fbedfd7775": {
     "model_module": "@jupyter-widgets/controls",
     "model_module_version": "1.5.0",
     "model_name": "DescriptionStyleModel",
     "state": {
      "_model_module": "@jupyter-widgets/controls",
      "_model_module_version": "1.5.0",
      "_model_name": "DescriptionStyleModel",
      "_view_count": null,
      "_view_module": "@jupyter-widgets/base",
      "_view_module_version": "1.2.0",
      "_view_name": "StyleView",
      "description_width": ""
     }
    },
    "09043a55c2ad40a6891fddb2aed5fe56": {
     "model_module": "@jupyter-widgets/controls",
     "model_module_version": "1.5.0",
     "model_name": "DescriptionStyleModel",
     "state": {
      "_model_module": "@jupyter-widgets/controls",
      "_model_module_version": "1.5.0",
      "_model_name": "DescriptionStyleModel",
      "_view_count": null,
      "_view_module": "@jupyter-widgets/base",
      "_view_module_version": "1.2.0",
      "_view_name": "StyleView",
      "description_width": ""
     }
    },
    "0b91696087f140d1af6ff5f0caf582eb": {
     "model_module": "@jupyter-widgets/controls",
     "model_module_version": "1.5.0",
     "model_name": "FloatProgressModel",
     "state": {
      "_dom_classes": [],
      "_model_module": "@jupyter-widgets/controls",
      "_model_module_version": "1.5.0",
      "_model_name": "FloatProgressModel",
      "_view_count": null,
      "_view_module": "@jupyter-widgets/controls",
      "_view_module_version": "1.5.0",
      "_view_name": "ProgressView",
      "bar_style": "success",
      "description": "",
      "description_tooltip": null,
      "layout": "IPY_MODEL_be8a93d4e9244856972cf0a2417895c4",
      "max": 4542,
      "min": 0,
      "orientation": "horizontal",
      "style": "IPY_MODEL_6c8f13f47cf54f6ea4f58bee0d30f143",
      "value": 4542
     }
    },
    "0c08dcb150944e4abd79b126db32d832": {
     "model_module": "@jupyter-widgets/controls",
     "model_module_version": "1.5.0",
     "model_name": "FloatProgressModel",
     "state": {
      "_dom_classes": [],
      "_model_module": "@jupyter-widgets/controls",
      "_model_module_version": "1.5.0",
      "_model_name": "FloatProgressModel",
      "_view_count": null,
      "_view_module": "@jupyter-widgets/controls",
      "_view_module_version": "1.5.0",
      "_view_name": "ProgressView",
      "bar_style": "success",
      "description": "",
      "description_tooltip": null,
      "layout": "IPY_MODEL_622c57f54d7749dc8ad435c6bdf3c1a7",
      "max": 1648877,
      "min": 0,
      "orientation": "horizontal",
      "style": "IPY_MODEL_49b254d5ccb345dbaf90f6fd469f8ad0",
      "value": 1648877
     }
    },
    "0cb54e62900048118fcba497e738e0ab": {
     "model_module": "@jupyter-widgets/base",
     "model_module_version": "1.2.0",
     "model_name": "LayoutModel",
     "state": {
      "_model_module": "@jupyter-widgets/base",
      "_model_module_version": "1.2.0",
      "_model_name": "LayoutModel",
      "_view_count": null,
      "_view_module": "@jupyter-widgets/base",
      "_view_module_version": "1.2.0",
      "_view_name": "LayoutView",
      "align_content": null,
      "align_items": null,
      "align_self": null,
      "border": null,
      "bottom": null,
      "display": null,
      "flex": null,
      "flex_flow": null,
      "grid_area": null,
      "grid_auto_columns": null,
      "grid_auto_flow": null,
      "grid_auto_rows": null,
      "grid_column": null,
      "grid_gap": null,
      "grid_row": null,
      "grid_template_areas": null,
      "grid_template_columns": null,
      "grid_template_rows": null,
      "height": null,
      "justify_content": null,
      "justify_items": null,
      "left": null,
      "margin": null,
      "max_height": null,
      "max_width": null,
      "min_height": null,
      "min_width": null,
      "object_fit": null,
      "object_position": null,
      "order": null,
      "overflow": null,
      "overflow_x": null,
      "overflow_y": null,
      "padding": null,
      "right": null,
      "top": null,
      "visibility": null,
      "width": null
     }
    },
    "0f16544309b34f33b91078f62467e22d": {
     "model_module": "@jupyter-widgets/controls",
     "model_module_version": "1.5.0",
     "model_name": "DescriptionStyleModel",
     "state": {
      "_model_module": "@jupyter-widgets/controls",
      "_model_module_version": "1.5.0",
      "_model_name": "DescriptionStyleModel",
      "_view_count": null,
      "_view_module": "@jupyter-widgets/base",
      "_view_module_version": "1.2.0",
      "_view_name": "StyleView",
      "description_width": ""
     }
    },
    "10178fdd866c4f9e991ec6af220e5deb": {
     "model_module": "@jupyter-widgets/controls",
     "model_module_version": "1.5.0",
     "model_name": "DescriptionStyleModel",
     "state": {
      "_model_module": "@jupyter-widgets/controls",
      "_model_module_version": "1.5.0",
      "_model_name": "DescriptionStyleModel",
      "_view_count": null,
      "_view_module": "@jupyter-widgets/base",
      "_view_module_version": "1.2.0",
      "_view_name": "StyleView",
      "description_width": ""
     }
    },
    "16290f3f7f11437e8ad3fdb18d98ab4f": {
     "model_module": "@jupyter-widgets/base",
     "model_module_version": "1.2.0",
     "model_name": "LayoutModel",
     "state": {
      "_model_module": "@jupyter-widgets/base",
      "_model_module_version": "1.2.0",
      "_model_name": "LayoutModel",
      "_view_count": null,
      "_view_module": "@jupyter-widgets/base",
      "_view_module_version": "1.2.0",
      "_view_name": "LayoutView",
      "align_content": null,
      "align_items": null,
      "align_self": null,
      "border": null,
      "bottom": null,
      "display": null,
      "flex": null,
      "flex_flow": null,
      "grid_area": null,
      "grid_auto_columns": null,
      "grid_auto_flow": null,
      "grid_auto_rows": null,
      "grid_column": null,
      "grid_gap": null,
      "grid_row": null,
      "grid_template_areas": null,
      "grid_template_columns": null,
      "grid_template_rows": null,
      "height": null,
      "justify_content": null,
      "justify_items": null,
      "left": null,
      "margin": null,
      "max_height": null,
      "max_width": null,
      "min_height": null,
      "min_width": null,
      "object_fit": null,
      "object_position": null,
      "order": null,
      "overflow": null,
      "overflow_x": null,
      "overflow_y": null,
      "padding": null,
      "right": null,
      "top": null,
      "visibility": null,
      "width": null
     }
    },
    "1e125399af7c4b768445ebb283b1e646": {
     "model_module": "@jupyter-widgets/base",
     "model_module_version": "1.2.0",
     "model_name": "LayoutModel",
     "state": {
      "_model_module": "@jupyter-widgets/base",
      "_model_module_version": "1.2.0",
      "_model_name": "LayoutModel",
      "_view_count": null,
      "_view_module": "@jupyter-widgets/base",
      "_view_module_version": "1.2.0",
      "_view_name": "LayoutView",
      "align_content": null,
      "align_items": null,
      "align_self": null,
      "border": null,
      "bottom": null,
      "display": null,
      "flex": null,
      "flex_flow": null,
      "grid_area": null,
      "grid_auto_columns": null,
      "grid_auto_flow": null,
      "grid_auto_rows": null,
      "grid_column": null,
      "grid_gap": null,
      "grid_row": null,
      "grid_template_areas": null,
      "grid_template_columns": null,
      "grid_template_rows": null,
      "height": null,
      "justify_content": null,
      "justify_items": null,
      "left": null,
      "margin": null,
      "max_height": null,
      "max_width": null,
      "min_height": null,
      "min_width": null,
      "object_fit": null,
      "object_position": null,
      "order": null,
      "overflow": null,
      "overflow_x": null,
      "overflow_y": null,
      "padding": null,
      "right": null,
      "top": null,
      "visibility": null,
      "width": null
     }
    },
    "24365b923a754b7fa9afcfc2b56152c0": {
     "model_module": "@jupyter-widgets/controls",
     "model_module_version": "1.5.0",
     "model_name": "HTMLModel",
     "state": {
      "_dom_classes": [],
      "_model_module": "@jupyter-widgets/controls",
      "_model_module_version": "1.5.0",
      "_model_name": "HTMLModel",
      "_view_count": null,
      "_view_module": "@jupyter-widgets/controls",
      "_view_module_version": "1.5.0",
      "_view_name": "HTMLView",
      "description": "",
      "description_tooltip": null,
      "layout": "IPY_MODEL_d62f0889fc6c4c4c85bbe15e9bec8f90",
      "placeholder": "​",
      "style": "IPY_MODEL_a0c688254b0444d1aa6c6fa90f6ff683",
      "value": " 9912422/9912422 [00:00&lt;00:00, 32532610.83it/s]"
     }
    },
    "255245d586c4434d949f8a8b0802bf27": {
     "model_module": "@jupyter-widgets/controls",
     "model_module_version": "1.5.0",
     "model_name": "HTMLModel",
     "state": {
      "_dom_classes": [],
      "_model_module": "@jupyter-widgets/controls",
      "_model_module_version": "1.5.0",
      "_model_name": "HTMLModel",
      "_view_count": null,
      "_view_module": "@jupyter-widgets/controls",
      "_view_module_version": "1.5.0",
      "_view_name": "HTMLView",
      "description": "",
      "description_tooltip": null,
      "layout": "IPY_MODEL_0cb54e62900048118fcba497e738e0ab",
      "placeholder": "​",
      "style": "IPY_MODEL_91c70b59ab714c578922842db2c9ac82",
      "value": " 28881/28881 [00:00&lt;00:00, 1026104.10it/s]"
     }
    },
    "49b254d5ccb345dbaf90f6fd469f8ad0": {
     "model_module": "@jupyter-widgets/controls",
     "model_module_version": "1.5.0",
     "model_name": "ProgressStyleModel",
     "state": {
      "_model_module": "@jupyter-widgets/controls",
      "_model_module_version": "1.5.0",
      "_model_name": "ProgressStyleModel",
      "_view_count": null,
      "_view_module": "@jupyter-widgets/base",
      "_view_module_version": "1.2.0",
      "_view_name": "StyleView",
      "bar_color": null,
      "description_width": ""
     }
    },
    "49fd3ae2b07f405182c18aa967196f9f": {
     "model_module": "@jupyter-widgets/controls",
     "model_module_version": "1.5.0",
     "model_name": "HBoxModel",
     "state": {
      "_dom_classes": [],
      "_model_module": "@jupyter-widgets/controls",
      "_model_module_version": "1.5.0",
      "_model_name": "HBoxModel",
      "_view_count": null,
      "_view_module": "@jupyter-widgets/controls",
      "_view_module_version": "1.5.0",
      "_view_name": "HBoxView",
      "box_style": "",
      "children": [
       "IPY_MODEL_4f00d225b40447fd833957d8afce79fa",
       "IPY_MODEL_0b91696087f140d1af6ff5f0caf582eb",
       "IPY_MODEL_fa472e9026694f3aa748c587fec70a96"
      ],
      "layout": "IPY_MODEL_8395306a5c834e85a8d044da0fe4869f"
     }
    },
    "4f00d225b40447fd833957d8afce79fa": {
     "model_module": "@jupyter-widgets/controls",
     "model_module_version": "1.5.0",
     "model_name": "HTMLModel",
     "state": {
      "_dom_classes": [],
      "_model_module": "@jupyter-widgets/controls",
      "_model_module_version": "1.5.0",
      "_model_name": "HTMLModel",
      "_view_count": null,
      "_view_module": "@jupyter-widgets/controls",
      "_view_module_version": "1.5.0",
      "_view_name": "HTMLView",
      "description": "",
      "description_tooltip": null,
      "layout": "IPY_MODEL_e3b1d3bc662a4dee95d8915ed64719da",
      "placeholder": "​",
      "style": "IPY_MODEL_0f16544309b34f33b91078f62467e22d",
      "value": "100%"
     }
    },
    "5768f0cbc8474c6e919fbe506f0a97c2": {
     "model_module": "@jupyter-widgets/base",
     "model_module_version": "1.2.0",
     "model_name": "LayoutModel",
     "state": {
      "_model_module": "@jupyter-widgets/base",
      "_model_module_version": "1.2.0",
      "_model_name": "LayoutModel",
      "_view_count": null,
      "_view_module": "@jupyter-widgets/base",
      "_view_module_version": "1.2.0",
      "_view_name": "LayoutView",
      "align_content": null,
      "align_items": null,
      "align_self": null,
      "border": null,
      "bottom": null,
      "display": null,
      "flex": null,
      "flex_flow": null,
      "grid_area": null,
      "grid_auto_columns": null,
      "grid_auto_flow": null,
      "grid_auto_rows": null,
      "grid_column": null,
      "grid_gap": null,
      "grid_row": null,
      "grid_template_areas": null,
      "grid_template_columns": null,
      "grid_template_rows": null,
      "height": null,
      "justify_content": null,
      "justify_items": null,
      "left": null,
      "margin": null,
      "max_height": null,
      "max_width": null,
      "min_height": null,
      "min_width": null,
      "object_fit": null,
      "object_position": null,
      "order": null,
      "overflow": null,
      "overflow_x": null,
      "overflow_y": null,
      "padding": null,
      "right": null,
      "top": null,
      "visibility": null,
      "width": null
     }
    },
    "581a5fd9f3214e6bb7c7570210eef316": {
     "model_module": "@jupyter-widgets/base",
     "model_module_version": "1.2.0",
     "model_name": "LayoutModel",
     "state": {
      "_model_module": "@jupyter-widgets/base",
      "_model_module_version": "1.2.0",
      "_model_name": "LayoutModel",
      "_view_count": null,
      "_view_module": "@jupyter-widgets/base",
      "_view_module_version": "1.2.0",
      "_view_name": "LayoutView",
      "align_content": null,
      "align_items": null,
      "align_self": null,
      "border": null,
      "bottom": null,
      "display": null,
      "flex": null,
      "flex_flow": null,
      "grid_area": null,
      "grid_auto_columns": null,
      "grid_auto_flow": null,
      "grid_auto_rows": null,
      "grid_column": null,
      "grid_gap": null,
      "grid_row": null,
      "grid_template_areas": null,
      "grid_template_columns": null,
      "grid_template_rows": null,
      "height": null,
      "justify_content": null,
      "justify_items": null,
      "left": null,
      "margin": null,
      "max_height": null,
      "max_width": null,
      "min_height": null,
      "min_width": null,
      "object_fit": null,
      "object_position": null,
      "order": null,
      "overflow": null,
      "overflow_x": null,
      "overflow_y": null,
      "padding": null,
      "right": null,
      "top": null,
      "visibility": null,
      "width": null
     }
    },
    "5cad7348b5c84f38865edbc281431f71": {
     "model_module": "@jupyter-widgets/base",
     "model_module_version": "1.2.0",
     "model_name": "LayoutModel",
     "state": {
      "_model_module": "@jupyter-widgets/base",
      "_model_module_version": "1.2.0",
      "_model_name": "LayoutModel",
      "_view_count": null,
      "_view_module": "@jupyter-widgets/base",
      "_view_module_version": "1.2.0",
      "_view_name": "LayoutView",
      "align_content": null,
      "align_items": null,
      "align_self": null,
      "border": null,
      "bottom": null,
      "display": null,
      "flex": null,
      "flex_flow": null,
      "grid_area": null,
      "grid_auto_columns": null,
      "grid_auto_flow": null,
      "grid_auto_rows": null,
      "grid_column": null,
      "grid_gap": null,
      "grid_row": null,
      "grid_template_areas": null,
      "grid_template_columns": null,
      "grid_template_rows": null,
      "height": null,
      "justify_content": null,
      "justify_items": null,
      "left": null,
      "margin": null,
      "max_height": null,
      "max_width": null,
      "min_height": null,
      "min_width": null,
      "object_fit": null,
      "object_position": null,
      "order": null,
      "overflow": null,
      "overflow_x": null,
      "overflow_y": null,
      "padding": null,
      "right": null,
      "top": null,
      "visibility": null,
      "width": null
     }
    },
    "6185f8acdcf74de2a0b891b7acbbdfdc": {
     "model_module": "@jupyter-widgets/controls",
     "model_module_version": "1.5.0",
     "model_name": "HTMLModel",
     "state": {
      "_dom_classes": [],
      "_model_module": "@jupyter-widgets/controls",
      "_model_module_version": "1.5.0",
      "_model_name": "HTMLModel",
      "_view_count": null,
      "_view_module": "@jupyter-widgets/controls",
      "_view_module_version": "1.5.0",
      "_view_name": "HTMLView",
      "description": "",
      "description_tooltip": null,
      "layout": "IPY_MODEL_581a5fd9f3214e6bb7c7570210eef316",
      "placeholder": "​",
      "style": "IPY_MODEL_09043a55c2ad40a6891fddb2aed5fe56",
      "value": " 1648877/1648877 [00:00&lt;00:00, 10782190.88it/s]"
     }
    },
    "622c57f54d7749dc8ad435c6bdf3c1a7": {
     "model_module": "@jupyter-widgets/base",
     "model_module_version": "1.2.0",
     "model_name": "LayoutModel",
     "state": {
      "_model_module": "@jupyter-widgets/base",
      "_model_module_version": "1.2.0",
      "_model_name": "LayoutModel",
      "_view_count": null,
      "_view_module": "@jupyter-widgets/base",
      "_view_module_version": "1.2.0",
      "_view_name": "LayoutView",
      "align_content": null,
      "align_items": null,
      "align_self": null,
      "border": null,
      "bottom": null,
      "display": null,
      "flex": null,
      "flex_flow": null,
      "grid_area": null,
      "grid_auto_columns": null,
      "grid_auto_flow": null,
      "grid_auto_rows": null,
      "grid_column": null,
      "grid_gap": null,
      "grid_row": null,
      "grid_template_areas": null,
      "grid_template_columns": null,
      "grid_template_rows": null,
      "height": null,
      "justify_content": null,
      "justify_items": null,
      "left": null,
      "margin": null,
      "max_height": null,
      "max_width": null,
      "min_height": null,
      "min_width": null,
      "object_fit": null,
      "object_position": null,
      "order": null,
      "overflow": null,
      "overflow_x": null,
      "overflow_y": null,
      "padding": null,
      "right": null,
      "top": null,
      "visibility": null,
      "width": null
     }
    },
    "649eff8fd4be4821905023645d38fbc1": {
     "model_module": "@jupyter-widgets/controls",
     "model_module_version": "1.5.0",
     "model_name": "HBoxModel",
     "state": {
      "_dom_classes": [],
      "_model_module": "@jupyter-widgets/controls",
      "_model_module_version": "1.5.0",
      "_model_name": "HBoxModel",
      "_view_count": null,
      "_view_module": "@jupyter-widgets/controls",
      "_view_module_version": "1.5.0",
      "_view_name": "HBoxView",
      "box_style": "",
      "children": [
       "IPY_MODEL_72f57520945248f49111e1ab37ef2e3c",
       "IPY_MODEL_0c08dcb150944e4abd79b126db32d832",
       "IPY_MODEL_6185f8acdcf74de2a0b891b7acbbdfdc"
      ],
      "layout": "IPY_MODEL_7b6e5967c65e45ff82ef633417382e0e"
     }
    },
    "6c8f13f47cf54f6ea4f58bee0d30f143": {
     "model_module": "@jupyter-widgets/controls",
     "model_module_version": "1.5.0",
     "model_name": "ProgressStyleModel",
     "state": {
      "_model_module": "@jupyter-widgets/controls",
      "_model_module_version": "1.5.0",
      "_model_name": "ProgressStyleModel",
      "_view_count": null,
      "_view_module": "@jupyter-widgets/base",
      "_view_module_version": "1.2.0",
      "_view_name": "StyleView",
      "bar_color": null,
      "description_width": ""
     }
    },
    "71b7f6cabfbc463f972c2df245390dfa": {
     "model_module": "@jupyter-widgets/base",
     "model_module_version": "1.2.0",
     "model_name": "LayoutModel",
     "state": {
      "_model_module": "@jupyter-widgets/base",
      "_model_module_version": "1.2.0",
      "_model_name": "LayoutModel",
      "_view_count": null,
      "_view_module": "@jupyter-widgets/base",
      "_view_module_version": "1.2.0",
      "_view_name": "LayoutView",
      "align_content": null,
      "align_items": null,
      "align_self": null,
      "border": null,
      "bottom": null,
      "display": null,
      "flex": null,
      "flex_flow": null,
      "grid_area": null,
      "grid_auto_columns": null,
      "grid_auto_flow": null,
      "grid_auto_rows": null,
      "grid_column": null,
      "grid_gap": null,
      "grid_row": null,
      "grid_template_areas": null,
      "grid_template_columns": null,
      "grid_template_rows": null,
      "height": null,
      "justify_content": null,
      "justify_items": null,
      "left": null,
      "margin": null,
      "max_height": null,
      "max_width": null,
      "min_height": null,
      "min_width": null,
      "object_fit": null,
      "object_position": null,
      "order": null,
      "overflow": null,
      "overflow_x": null,
      "overflow_y": null,
      "padding": null,
      "right": null,
      "top": null,
      "visibility": null,
      "width": null
     }
    },
    "72f57520945248f49111e1ab37ef2e3c": {
     "model_module": "@jupyter-widgets/controls",
     "model_module_version": "1.5.0",
     "model_name": "HTMLModel",
     "state": {
      "_dom_classes": [],
      "_model_module": "@jupyter-widgets/controls",
      "_model_module_version": "1.5.0",
      "_model_name": "HTMLModel",
      "_view_count": null,
      "_view_module": "@jupyter-widgets/controls",
      "_view_module_version": "1.5.0",
      "_view_name": "HTMLView",
      "description": "",
      "description_tooltip": null,
      "layout": "IPY_MODEL_71b7f6cabfbc463f972c2df245390dfa",
      "placeholder": "​",
      "style": "IPY_MODEL_b026cfc07b824607be726b27a3ad7ff3",
      "value": "100%"
     }
    },
    "7586d4b6fe804393ab1a84543a65c974": {
     "model_module": "@jupyter-widgets/controls",
     "model_module_version": "1.5.0",
     "model_name": "FloatProgressModel",
     "state": {
      "_dom_classes": [],
      "_model_module": "@jupyter-widgets/controls",
      "_model_module_version": "1.5.0",
      "_model_name": "FloatProgressModel",
      "_view_count": null,
      "_view_module": "@jupyter-widgets/controls",
      "_view_module_version": "1.5.0",
      "_view_name": "ProgressView",
      "bar_style": "success",
      "description": "",
      "description_tooltip": null,
      "layout": "IPY_MODEL_8c1697b8b6fc429ca0d75be196f4864a",
      "max": 9912422,
      "min": 0,
      "orientation": "horizontal",
      "style": "IPY_MODEL_7d382227a0484f838d8e398c97942b9e",
      "value": 9912422
     }
    },
    "788dffc4ced742689a11b224e71fa07b": {
     "model_module": "@jupyter-widgets/controls",
     "model_module_version": "1.5.0",
     "model_name": "HTMLModel",
     "state": {
      "_dom_classes": [],
      "_model_module": "@jupyter-widgets/controls",
      "_model_module_version": "1.5.0",
      "_model_name": "HTMLModel",
      "_view_count": null,
      "_view_module": "@jupyter-widgets/controls",
      "_view_module_version": "1.5.0",
      "_view_name": "HTMLView",
      "description": "",
      "description_tooltip": null,
      "layout": "IPY_MODEL_c2bb008f21a84df4aab34b5e94b6d270",
      "placeholder": "​",
      "style": "IPY_MODEL_d9da13664c084fdb96dcf9bfacc51861",
      "value": "100%"
     }
    },
    "78ba7f4ace9948cbb3a2ded0a88cb812": {
     "model_module": "@jupyter-widgets/controls",
     "model_module_version": "1.5.0",
     "model_name": "HBoxModel",
     "state": {
      "_dom_classes": [],
      "_model_module": "@jupyter-widgets/controls",
      "_model_module_version": "1.5.0",
      "_model_name": "HBoxModel",
      "_view_count": null,
      "_view_module": "@jupyter-widgets/controls",
      "_view_module_version": "1.5.0",
      "_view_name": "HBoxView",
      "box_style": "",
      "children": [
       "IPY_MODEL_788dffc4ced742689a11b224e71fa07b",
       "IPY_MODEL_97d5de2b663c4b038d01e76c6fbd52e0",
       "IPY_MODEL_255245d586c4434d949f8a8b0802bf27"
      ],
      "layout": "IPY_MODEL_1e125399af7c4b768445ebb283b1e646"
     }
    },
    "7b6e5967c65e45ff82ef633417382e0e": {
     "model_module": "@jupyter-widgets/base",
     "model_module_version": "1.2.0",
     "model_name": "LayoutModel",
     "state": {
      "_model_module": "@jupyter-widgets/base",
      "_model_module_version": "1.2.0",
      "_model_name": "LayoutModel",
      "_view_count": null,
      "_view_module": "@jupyter-widgets/base",
      "_view_module_version": "1.2.0",
      "_view_name": "LayoutView",
      "align_content": null,
      "align_items": null,
      "align_self": null,
      "border": null,
      "bottom": null,
      "display": null,
      "flex": null,
      "flex_flow": null,
      "grid_area": null,
      "grid_auto_columns": null,
      "grid_auto_flow": null,
      "grid_auto_rows": null,
      "grid_column": null,
      "grid_gap": null,
      "grid_row": null,
      "grid_template_areas": null,
      "grid_template_columns": null,
      "grid_template_rows": null,
      "height": null,
      "justify_content": null,
      "justify_items": null,
      "left": null,
      "margin": null,
      "max_height": null,
      "max_width": null,
      "min_height": null,
      "min_width": null,
      "object_fit": null,
      "object_position": null,
      "order": null,
      "overflow": null,
      "overflow_x": null,
      "overflow_y": null,
      "padding": null,
      "right": null,
      "top": null,
      "visibility": null,
      "width": null
     }
    },
    "7d382227a0484f838d8e398c97942b9e": {
     "model_module": "@jupyter-widgets/controls",
     "model_module_version": "1.5.0",
     "model_name": "ProgressStyleModel",
     "state": {
      "_model_module": "@jupyter-widgets/controls",
      "_model_module_version": "1.5.0",
      "_model_name": "ProgressStyleModel",
      "_view_count": null,
      "_view_module": "@jupyter-widgets/base",
      "_view_module_version": "1.2.0",
      "_view_name": "StyleView",
      "bar_color": null,
      "description_width": ""
     }
    },
    "8395306a5c834e85a8d044da0fe4869f": {
     "model_module": "@jupyter-widgets/base",
     "model_module_version": "1.2.0",
     "model_name": "LayoutModel",
     "state": {
      "_model_module": "@jupyter-widgets/base",
      "_model_module_version": "1.2.0",
      "_model_name": "LayoutModel",
      "_view_count": null,
      "_view_module": "@jupyter-widgets/base",
      "_view_module_version": "1.2.0",
      "_view_name": "LayoutView",
      "align_content": null,
      "align_items": null,
      "align_self": null,
      "border": null,
      "bottom": null,
      "display": null,
      "flex": null,
      "flex_flow": null,
      "grid_area": null,
      "grid_auto_columns": null,
      "grid_auto_flow": null,
      "grid_auto_rows": null,
      "grid_column": null,
      "grid_gap": null,
      "grid_row": null,
      "grid_template_areas": null,
      "grid_template_columns": null,
      "grid_template_rows": null,
      "height": null,
      "justify_content": null,
      "justify_items": null,
      "left": null,
      "margin": null,
      "max_height": null,
      "max_width": null,
      "min_height": null,
      "min_width": null,
      "object_fit": null,
      "object_position": null,
      "order": null,
      "overflow": null,
      "overflow_x": null,
      "overflow_y": null,
      "padding": null,
      "right": null,
      "top": null,
      "visibility": null,
      "width": null
     }
    },
    "8c1697b8b6fc429ca0d75be196f4864a": {
     "model_module": "@jupyter-widgets/base",
     "model_module_version": "1.2.0",
     "model_name": "LayoutModel",
     "state": {
      "_model_module": "@jupyter-widgets/base",
      "_model_module_version": "1.2.0",
      "_model_name": "LayoutModel",
      "_view_count": null,
      "_view_module": "@jupyter-widgets/base",
      "_view_module_version": "1.2.0",
      "_view_name": "LayoutView",
      "align_content": null,
      "align_items": null,
      "align_self": null,
      "border": null,
      "bottom": null,
      "display": null,
      "flex": null,
      "flex_flow": null,
      "grid_area": null,
      "grid_auto_columns": null,
      "grid_auto_flow": null,
      "grid_auto_rows": null,
      "grid_column": null,
      "grid_gap": null,
      "grid_row": null,
      "grid_template_areas": null,
      "grid_template_columns": null,
      "grid_template_rows": null,
      "height": null,
      "justify_content": null,
      "justify_items": null,
      "left": null,
      "margin": null,
      "max_height": null,
      "max_width": null,
      "min_height": null,
      "min_width": null,
      "object_fit": null,
      "object_position": null,
      "order": null,
      "overflow": null,
      "overflow_x": null,
      "overflow_y": null,
      "padding": null,
      "right": null,
      "top": null,
      "visibility": null,
      "width": null
     }
    },
    "91c70b59ab714c578922842db2c9ac82": {
     "model_module": "@jupyter-widgets/controls",
     "model_module_version": "1.5.0",
     "model_name": "DescriptionStyleModel",
     "state": {
      "_model_module": "@jupyter-widgets/controls",
      "_model_module_version": "1.5.0",
      "_model_name": "DescriptionStyleModel",
      "_view_count": null,
      "_view_module": "@jupyter-widgets/base",
      "_view_module_version": "1.2.0",
      "_view_name": "StyleView",
      "description_width": ""
     }
    },
    "97d5de2b663c4b038d01e76c6fbd52e0": {
     "model_module": "@jupyter-widgets/controls",
     "model_module_version": "1.5.0",
     "model_name": "FloatProgressModel",
     "state": {
      "_dom_classes": [],
      "_model_module": "@jupyter-widgets/controls",
      "_model_module_version": "1.5.0",
      "_model_name": "FloatProgressModel",
      "_view_count": null,
      "_view_module": "@jupyter-widgets/controls",
      "_view_module_version": "1.5.0",
      "_view_name": "ProgressView",
      "bar_style": "success",
      "description": "",
      "description_tooltip": null,
      "layout": "IPY_MODEL_5cad7348b5c84f38865edbc281431f71",
      "max": 28881,
      "min": 0,
      "orientation": "horizontal",
      "style": "IPY_MODEL_f2a9bdd6c20045d58afa9846794f4e6e",
      "value": 28881
     }
    },
    "9da5181c9de648f09319ce02afa67910": {
     "model_module": "@jupyter-widgets/base",
     "model_module_version": "1.2.0",
     "model_name": "LayoutModel",
     "state": {
      "_model_module": "@jupyter-widgets/base",
      "_model_module_version": "1.2.0",
      "_model_name": "LayoutModel",
      "_view_count": null,
      "_view_module": "@jupyter-widgets/base",
      "_view_module_version": "1.2.0",
      "_view_name": "LayoutView",
      "align_content": null,
      "align_items": null,
      "align_self": null,
      "border": null,
      "bottom": null,
      "display": null,
      "flex": null,
      "flex_flow": null,
      "grid_area": null,
      "grid_auto_columns": null,
      "grid_auto_flow": null,
      "grid_auto_rows": null,
      "grid_column": null,
      "grid_gap": null,
      "grid_row": null,
      "grid_template_areas": null,
      "grid_template_columns": null,
      "grid_template_rows": null,
      "height": null,
      "justify_content": null,
      "justify_items": null,
      "left": null,
      "margin": null,
      "max_height": null,
      "max_width": null,
      "min_height": null,
      "min_width": null,
      "object_fit": null,
      "object_position": null,
      "order": null,
      "overflow": null,
      "overflow_x": null,
      "overflow_y": null,
      "padding": null,
      "right": null,
      "top": null,
      "visibility": null,
      "width": null
     }
    },
    "a0c688254b0444d1aa6c6fa90f6ff683": {
     "model_module": "@jupyter-widgets/controls",
     "model_module_version": "1.5.0",
     "model_name": "DescriptionStyleModel",
     "state": {
      "_model_module": "@jupyter-widgets/controls",
      "_model_module_version": "1.5.0",
      "_model_name": "DescriptionStyleModel",
      "_view_count": null,
      "_view_module": "@jupyter-widgets/base",
      "_view_module_version": "1.2.0",
      "_view_name": "StyleView",
      "description_width": ""
     }
    },
    "b026cfc07b824607be726b27a3ad7ff3": {
     "model_module": "@jupyter-widgets/controls",
     "model_module_version": "1.5.0",
     "model_name": "DescriptionStyleModel",
     "state": {
      "_model_module": "@jupyter-widgets/controls",
      "_model_module_version": "1.5.0",
      "_model_name": "DescriptionStyleModel",
      "_view_count": null,
      "_view_module": "@jupyter-widgets/base",
      "_view_module_version": "1.2.0",
      "_view_name": "StyleView",
      "description_width": ""
     }
    },
    "be8a93d4e9244856972cf0a2417895c4": {
     "model_module": "@jupyter-widgets/base",
     "model_module_version": "1.2.0",
     "model_name": "LayoutModel",
     "state": {
      "_model_module": "@jupyter-widgets/base",
      "_model_module_version": "1.2.0",
      "_model_name": "LayoutModel",
      "_view_count": null,
      "_view_module": "@jupyter-widgets/base",
      "_view_module_version": "1.2.0",
      "_view_name": "LayoutView",
      "align_content": null,
      "align_items": null,
      "align_self": null,
      "border": null,
      "bottom": null,
      "display": null,
      "flex": null,
      "flex_flow": null,
      "grid_area": null,
      "grid_auto_columns": null,
      "grid_auto_flow": null,
      "grid_auto_rows": null,
      "grid_column": null,
      "grid_gap": null,
      "grid_row": null,
      "grid_template_areas": null,
      "grid_template_columns": null,
      "grid_template_rows": null,
      "height": null,
      "justify_content": null,
      "justify_items": null,
      "left": null,
      "margin": null,
      "max_height": null,
      "max_width": null,
      "min_height": null,
      "min_width": null,
      "object_fit": null,
      "object_position": null,
      "order": null,
      "overflow": null,
      "overflow_x": null,
      "overflow_y": null,
      "padding": null,
      "right": null,
      "top": null,
      "visibility": null,
      "width": null
     }
    },
    "c2bb008f21a84df4aab34b5e94b6d270": {
     "model_module": "@jupyter-widgets/base",
     "model_module_version": "1.2.0",
     "model_name": "LayoutModel",
     "state": {
      "_model_module": "@jupyter-widgets/base",
      "_model_module_version": "1.2.0",
      "_model_name": "LayoutModel",
      "_view_count": null,
      "_view_module": "@jupyter-widgets/base",
      "_view_module_version": "1.2.0",
      "_view_name": "LayoutView",
      "align_content": null,
      "align_items": null,
      "align_self": null,
      "border": null,
      "bottom": null,
      "display": null,
      "flex": null,
      "flex_flow": null,
      "grid_area": null,
      "grid_auto_columns": null,
      "grid_auto_flow": null,
      "grid_auto_rows": null,
      "grid_column": null,
      "grid_gap": null,
      "grid_row": null,
      "grid_template_areas": null,
      "grid_template_columns": null,
      "grid_template_rows": null,
      "height": null,
      "justify_content": null,
      "justify_items": null,
      "left": null,
      "margin": null,
      "max_height": null,
      "max_width": null,
      "min_height": null,
      "min_width": null,
      "object_fit": null,
      "object_position": null,
      "order": null,
      "overflow": null,
      "overflow_x": null,
      "overflow_y": null,
      "padding": null,
      "right": null,
      "top": null,
      "visibility": null,
      "width": null
     }
    },
    "d62f0889fc6c4c4c85bbe15e9bec8f90": {
     "model_module": "@jupyter-widgets/base",
     "model_module_version": "1.2.0",
     "model_name": "LayoutModel",
     "state": {
      "_model_module": "@jupyter-widgets/base",
      "_model_module_version": "1.2.0",
      "_model_name": "LayoutModel",
      "_view_count": null,
      "_view_module": "@jupyter-widgets/base",
      "_view_module_version": "1.2.0",
      "_view_name": "LayoutView",
      "align_content": null,
      "align_items": null,
      "align_self": null,
      "border": null,
      "bottom": null,
      "display": null,
      "flex": null,
      "flex_flow": null,
      "grid_area": null,
      "grid_auto_columns": null,
      "grid_auto_flow": null,
      "grid_auto_rows": null,
      "grid_column": null,
      "grid_gap": null,
      "grid_row": null,
      "grid_template_areas": null,
      "grid_template_columns": null,
      "grid_template_rows": null,
      "height": null,
      "justify_content": null,
      "justify_items": null,
      "left": null,
      "margin": null,
      "max_height": null,
      "max_width": null,
      "min_height": null,
      "min_width": null,
      "object_fit": null,
      "object_position": null,
      "order": null,
      "overflow": null,
      "overflow_x": null,
      "overflow_y": null,
      "padding": null,
      "right": null,
      "top": null,
      "visibility": null,
      "width": null
     }
    },
    "d9da13664c084fdb96dcf9bfacc51861": {
     "model_module": "@jupyter-widgets/controls",
     "model_module_version": "1.5.0",
     "model_name": "DescriptionStyleModel",
     "state": {
      "_model_module": "@jupyter-widgets/controls",
      "_model_module_version": "1.5.0",
      "_model_name": "DescriptionStyleModel",
      "_view_count": null,
      "_view_module": "@jupyter-widgets/base",
      "_view_module_version": "1.2.0",
      "_view_name": "StyleView",
      "description_width": ""
     }
    },
    "e3b1d3bc662a4dee95d8915ed64719da": {
     "model_module": "@jupyter-widgets/base",
     "model_module_version": "1.2.0",
     "model_name": "LayoutModel",
     "state": {
      "_model_module": "@jupyter-widgets/base",
      "_model_module_version": "1.2.0",
      "_model_name": "LayoutModel",
      "_view_count": null,
      "_view_module": "@jupyter-widgets/base",
      "_view_module_version": "1.2.0",
      "_view_name": "LayoutView",
      "align_content": null,
      "align_items": null,
      "align_self": null,
      "border": null,
      "bottom": null,
      "display": null,
      "flex": null,
      "flex_flow": null,
      "grid_area": null,
      "grid_auto_columns": null,
      "grid_auto_flow": null,
      "grid_auto_rows": null,
      "grid_column": null,
      "grid_gap": null,
      "grid_row": null,
      "grid_template_areas": null,
      "grid_template_columns": null,
      "grid_template_rows": null,
      "height": null,
      "justify_content": null,
      "justify_items": null,
      "left": null,
      "margin": null,
      "max_height": null,
      "max_width": null,
      "min_height": null,
      "min_width": null,
      "object_fit": null,
      "object_position": null,
      "order": null,
      "overflow": null,
      "overflow_x": null,
      "overflow_y": null,
      "padding": null,
      "right": null,
      "top": null,
      "visibility": null,
      "width": null
     }
    },
    "f2a9bdd6c20045d58afa9846794f4e6e": {
     "model_module": "@jupyter-widgets/controls",
     "model_module_version": "1.5.0",
     "model_name": "ProgressStyleModel",
     "state": {
      "_model_module": "@jupyter-widgets/controls",
      "_model_module_version": "1.5.0",
      "_model_name": "ProgressStyleModel",
      "_view_count": null,
      "_view_module": "@jupyter-widgets/base",
      "_view_module_version": "1.2.0",
      "_view_name": "StyleView",
      "bar_color": null,
      "description_width": ""
     }
    },
    "f71b5d250d2e42aeb7d89dd15018b6ea": {
     "model_module": "@jupyter-widgets/controls",
     "model_module_version": "1.5.0",
     "model_name": "HBoxModel",
     "state": {
      "_dom_classes": [],
      "_model_module": "@jupyter-widgets/controls",
      "_model_module_version": "1.5.0",
      "_model_name": "HBoxModel",
      "_view_count": null,
      "_view_module": "@jupyter-widgets/controls",
      "_view_module_version": "1.5.0",
      "_view_name": "HBoxView",
      "box_style": "",
      "children": [
       "IPY_MODEL_008a0d6c9d10496882d7d4c9cb9cb9d9",
       "IPY_MODEL_7586d4b6fe804393ab1a84543a65c974",
       "IPY_MODEL_24365b923a754b7fa9afcfc2b56152c0"
      ],
      "layout": "IPY_MODEL_16290f3f7f11437e8ad3fdb18d98ab4f"
     }
    },
    "fa472e9026694f3aa748c587fec70a96": {
     "model_module": "@jupyter-widgets/controls",
     "model_module_version": "1.5.0",
     "model_name": "HTMLModel",
     "state": {
      "_dom_classes": [],
      "_model_module": "@jupyter-widgets/controls",
      "_model_module_version": "1.5.0",
      "_model_name": "HTMLModel",
      "_view_count": null,
      "_view_module": "@jupyter-widgets/controls",
      "_view_module_version": "1.5.0",
      "_view_name": "HTMLView",
      "description": "",
      "description_tooltip": null,
      "layout": "IPY_MODEL_9da5181c9de648f09319ce02afa67910",
      "placeholder": "​",
      "style": "IPY_MODEL_10178fdd866c4f9e991ec6af220e5deb",
      "value": " 4542/4542 [00:00&lt;00:00, 182952.99it/s]"
     }
    }
   }
  }
 },
 "nbformat": 4,
 "nbformat_minor": 4
}
